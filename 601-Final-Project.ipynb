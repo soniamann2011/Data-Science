{
 "cells": [
  {
   "cell_type": "markdown",
   "metadata": {},
   "source": [
    "# Arizona fatal accidents 2012-2016\n",
    "\n",
    "### DESCRIPTION\n",
    "* This is a simplified version of the two main tables in the Fatality Accident Reporting System as published on NHTSA's.\n",
    "### DATA SOURCE:\n",
    "<b> This data contains two datasets one is about accidents that is accident.tsv and another is about vehicles that is vehicle.tsv.</b>\n",
    "https://data.world/cronkite-data/azfars\n",
    "* Analytic manual and detailed record layouts and instructions: https://crashstats.nhtsa.dot.gov/Api/Public/ViewPublication/812447\n",
    "\n",
    "* Auxiliary file layouts:\n",
    "https://crashstats.nhtsa.dot.gov/Api/Public/ViewPublication/AUXF_A\n",
    "\n",
    "### DATA SELECTION AND OBJECTIVE:\n",
    "<b> I have select this particular data due to following reasons:</b>\n",
    "* Firstly open source data ,so one can download without any restrictions.\n",
    "* It fulfills the requirements of this project\n",
    "* It is an interesting data as I have two datasets which i am going to merge for further detailed EDA\n",
    "* I will find out famous city for accident \n",
    "* contribution of weather and speed in accident will be analysed in this.\n",
    "* Hypothesis testing to prove aur finding.\n",
    "\n",
    "\n",
    "\n",
    "\n",
    "### DATA PROPERTIES:\n",
    "### Accident Data\n",
    "* Number of columns:79\n",
    "* Number of Rows:3904\n",
    "#### Columns detail:\n",
    "\n",
    "* accident_id - id related to the accident\n",
    "* st_case - Consecutive Number\n",
    "* ve_total - Number of Vehicle Forms Submitted\n",
    "* ve_forms - Number of Vehicle Forms Submitted for MV In Transport\n",
    "* peds - Number of Forms Submitted for Persons Not in Motor Vehicles\n",
    "* persons - Number of MV Occupant\n",
    "* county - county name\n",
    "* country - country name\n",
    "* city - city\n",
    "* city_name - city name\n",
    "* day - Crash Date (Day)\n",
    "* month - Crash Date (Month)\n",
    "* year - Crash Date (Year)\n",
    "* hour - Crash Time (Hour)\n",
    "* minute - Crash Time (Minute)\n",
    "* nhs - National Highway System\n",
    "* func_sys_lit - Functional System\n",
    "* road_fnc_lit - Roadway Function Class\n",
    "* rd_owner_lit - Ownership\n",
    "* tway_id - Trafficway Identifier (1)\n",
    "* tway_id2 - Trafficway Identifier (2)\n",
    "* latitude - Global Position (Latitude)\n",
    "* longiture - Global Position (Longitude)\n",
    "* sp_jur_lit - Special Jurisdiction\n",
    "* harm_ev_lit - First Harmful Event\n",
    "* man_col_lit - Manner of Collision\n",
    "* reljct1 - Relation to Junction Within Interchange Area\n",
    "* reljct2 - Relation to Junction - Specific Location\n",
    "* typ_int - Type of Intersection\n",
    "* wrk_zone - Work Zone\n",
    "* rel_road - Relation To Trafficway\n",
    "* lgt_cond_lit - Light Condition\n",
    "* weather_lit - Atmospheric Conditions\n",
    "* sch_bus - School Bus Related\n",
    "* cf1_lit - Related Factors (1)\n",
    "* cf2_lit - Related Factors (2)\n",
    "* cf3_lit - Related Factors (3)\n",
    "* fatals - Fatalities\n",
    "* a_inter_lit - interstate\n",
    "* a_road_fc_lit - roadway function class\n",
    "* a_tod_lit - Time of Day\n",
    "* a_dow_lit - day of week\n",
    "* a_lt_lit - involving a large truck\n",
    "* a_spcra_lit - Involving Speeding\n",
    "* a_ped_lit - Involving a Pedestrian\n",
    "* a_ped_f_lit - Involving a Pedestrian Fatality\n",
    "* a_pedal_lit - Involving a Pedalcyclist\n",
    "* a_pedal_f - Involving a Pedalcyclist Fatality\n",
    "* a_polpur_lit - Involving a Police Pursuit\n",
    "* a_posbac - Involving a Driver With Positive BAC\n",
    "* a_dist_lit - Involving a Distracted Driver\n",
    "* a_drowsy_lit - Involving a Drowsy Driver\n",
    "* indian_res - Indian Reservation based on special jurisdiction and geographic location data\n",
    "\n",
    "\n",
    "### Vehicle data\n",
    "\n",
    "* Number of rows:5889\n",
    "* Number of columns:131\n",
    "\n",
    "### Columns detail:\n",
    "\n",
    "* state - State Number\n",
    "* st_case - Consecutive Number\n",
    "* veh_no - Vehicle Number\n",
    "* ve_forms - Number of Vehicle Forms Submitted for MV In Transport\n",
    "* numoccs - Number of Occupants\n",
    "* day - Crash Date (Day)\n",
    "* month\t- Crash Date (Month)\n",
    "* hour - Crash Time (Hour)\n",
    "* minute - Crash Time (Minute)\n",
    "* harm_ev - First Harmful Event\n",
    "* man_coll - Manner of Collision\n",
    "* unittype - Unit Type\t\n",
    "* hit_run - Hit and Run\n",
    "* reg_stat - Vehicle Registration State\n",
    "* owner - Registered Vehicle Owner\n",
    "* make - Vehicle Make\n",
    "* model - Vehicle Model\n",
    "* mak_mod - Make Model Combined\n",
    "* body_type - Body Type\t\n",
    "* mode_year - Vehicle Model Year\n",
    "* vin_vechile - Identification Number\n",
    "* vin_1 - VIN Character(1)\n",
    "* vin_2 - VIN Character(2)\n",
    "* vin_3 - VIN Character(3)\n",
    "* vin_4 - VIN Character(4)\n",
    "* vin_5 - VIN Character(5)\n",
    "* vin_6 - VIN Character(6)\n",
    "* vin_7 - VIN Character(7)\n",
    "* vin_8 - VIN Character(8)\n",
    "* vin_9 - VIN Character(9)\n",
    "* vin_10 - VIN Character(10)\n",
    "* vin_11 - VIN Character(11)\n",
    "* vin_12 - VIN Character(12)\n",
    "* tow_veh - Vehicle Trailing\n",
    "* j_knife - Jackknife\t\n",
    "* mcarr_i1 - MCID Issuing Authority\n",
    "* mcarr_i2 - MCID Identification Number\n",
    "* mcarr_id - Motor Carrier Identification Number\n",
    "* gvwr - Gross Vehicle Weight Rating\n",
    "* v_config - Vehicle Configuration\n",
    "* cargo_bt - Cargo Body Type\n",
    "* haz_inv - Hazardous Materials Involvement/Placard-HM1 -Involvement\n",
    "* haz_plac - Hazardous Materials Involvement/Placard-HM2 Placard\n",
    "* haz_id - Hazardous Materials Involvement/Placard- HM3 Identification Number\n",
    "* haz_cno - Hazardous Materials Involvement/Placard-HM4 Class Number\n",
    "* haz_rel - Hazardous Materials Involvement/Placard-HM5 Released\n",
    "* bus_use - Bus Use\t\n",
    "* spec_use - Special Use\n",
    "* emer_use - Emergency Use\n",
    "* trav_sp - Travel Speed\n",
    "* underride - Underride/Override\n",
    "* rollover - Rollover Type\n",
    "* rolinloc - Location of Rollover\n",
    "* impact1 - Areas of Impact - Initial Contact Point\n",
    "* deformed - Extent of Damage\n",
    "* towed - Vehicle Removal\n",
    "* m_harm - Most Harmful Event\n",
    "* veh_sc1 - Vehicle Related Factors (1)\n",
    "* veh_sc2 - Vehicle Related Factors (2)\n",
    "* fire_exp - Fire Occurrence\n",
    "* dr_pres - Driver Presence\n",
    "* l_state - Driver License State\n",
    "* dr_zip - Driver ZIP Code\n",
    "* l_status - Non-CDL License Status\n",
    "* l_type - Non-CDL License Type\n",
    "* cdl_stat - Commercial MV License Status\n",
    "* l_endors - Compliance with CDL Endorsements\n",
    "* l_cmpl - License Compliance with Class of Vehicle\n",
    "* l_restri - Compliance with License Restrictions\n",
    "* dr_hgt - Driver Height\n",
    "* dr_wgt - Driver Weight\n",
    "* prev_acc - Previous Recorded Crashes\n",
    "* prev_sus - Previous Recorded Suspensions and Revocations\n",
    "* prev_dwi - Previous DWI Convictions\n",
    "* prev_spd - Previous Speeding Convictions\n",
    "* prev_oth - Previous Other Moving Violation Convictions\n",
    "* first_mo - Date of First Crash, Suspension or Conviction (Month)\n",
    "* first_yr - Date of First Crash, Suspension or Conviction (Year)\n",
    "* last_mo - Date of Last Crash, Suspension or Conviction (Month)\n",
    "* last_yr - Date of Last Crash, Suspension or Conviction (Year)\n",
    "* speedrel - Speeding Related\n",
    "* dr_sf1 - Driver Related Factors (4 choices)\n",
    "* dr_sf2 - Driver Related Factors (4 choices)\n",
    "* dr_sf3 - Driver Related Factors (4 choices)\n",
    "* dr_sf4 - Driver Related Factors (4 choices)\n",
    "* vtrafway - Trafficway Description"
   ]
  },
  {
   "cell_type": "markdown",
   "metadata": {},
   "source": [
    "## 1. Import Libraries"
   ]
  },
  {
   "cell_type": "code",
   "execution_count": 1,
   "metadata": {},
   "outputs": [],
   "source": [
    "import os\n",
    "import re\n",
    "from datetime import datetime as dt\n",
    "import numpy as np\n",
    "import pandas as pd\n",
    "import seaborn as sns\n",
    "import matplotlib.pyplot as plt\n",
    "import warnings\n",
    "warnings.filterwarnings(\"ignore\")\n",
    "## getting path\n",
    "path = os.getcwd()"
   ]
  },
  {
   "cell_type": "markdown",
   "metadata": {},
   "source": [
    "## 2. Import Data"
   ]
  },
  {
   "cell_type": "markdown",
   "metadata": {},
   "source": [
    "### 2.1 accident data\n",
    "\n",
    "Below are the accident data for each accident happend from 2012 through 2016.\n",
    "* For many fields, the original code and the translation of that code as provided by NHTSA are shown next to each other, with the original field name followed by that field name with the suffix “lit”, for “literal”.Example, if the original record layout contains a field called WEATHER, this file will include WEATHER as a numeric, coded field, and WEATHER_LIT as its translation."
   ]
  },
  {
   "cell_type": "code",
   "execution_count": 2,
   "metadata": {},
   "outputs": [
    {
     "name": "stdout",
     "output_type": "stream",
     "text": [
      "Shape of the accident data is (3904, 79).\n"
     ]
    },
    {
     "data": {
      "text/html": [
       "<div>\n",
       "<style scoped>\n",
       "    .dataframe tbody tr th:only-of-type {\n",
       "        vertical-align: middle;\n",
       "    }\n",
       "\n",
       "    .dataframe tbody tr th {\n",
       "        vertical-align: top;\n",
       "    }\n",
       "\n",
       "    .dataframe thead th {\n",
       "        text-align: right;\n",
       "    }\n",
       "</style>\n",
       "<table border=\"1\" class=\"dataframe\">\n",
       "  <thead>\n",
       "    <tr style=\"text-align: right;\">\n",
       "      <th></th>\n",
       "      <th>accident_id</th>\n",
       "      <th>st_case</th>\n",
       "      <th>ve_total</th>\n",
       "      <th>ve_forms</th>\n",
       "      <th>peds</th>\n",
       "      <th>persons</th>\n",
       "      <th>county</th>\n",
       "      <th>county_name</th>\n",
       "      <th>city</th>\n",
       "      <th>city_name</th>\n",
       "      <th>...</th>\n",
       "      <th>a_polpur</th>\n",
       "      <th>a_polour_lit</th>\n",
       "      <th>a_posbac</th>\n",
       "      <th>a_posbac_lit</th>\n",
       "      <th>a_dist</th>\n",
       "      <th>a_dist_lit</th>\n",
       "      <th>a_drowsy</th>\n",
       "      <th>a_drowsy_lit</th>\n",
       "      <th>indian_res</th>\n",
       "      <th>indian_res_lit</th>\n",
       "    </tr>\n",
       "  </thead>\n",
       "  <tbody>\n",
       "    <tr>\n",
       "      <th>0</th>\n",
       "      <td>2012040001</td>\n",
       "      <td>40001</td>\n",
       "      <td>1</td>\n",
       "      <td>1</td>\n",
       "      <td>0</td>\n",
       "      <td>1</td>\n",
       "      <td>19</td>\n",
       "      <td>PIMA</td>\n",
       "      <td>0</td>\n",
       "      <td>NONE LISTED</td>\n",
       "      <td>...</td>\n",
       "      <td>2</td>\n",
       "      <td>Other Crash</td>\n",
       "      <td>1</td>\n",
       "      <td>Driver With Positive BAC Testing Crash</td>\n",
       "      <td>2</td>\n",
       "      <td>Other Crash</td>\n",
       "      <td>2</td>\n",
       "      <td>Other Crash</td>\n",
       "      <td>0</td>\n",
       "      <td>Not Tribal Lands</td>\n",
       "    </tr>\n",
       "    <tr>\n",
       "      <th>1</th>\n",
       "      <td>2012040002</td>\n",
       "      <td>40002</td>\n",
       "      <td>1</td>\n",
       "      <td>1</td>\n",
       "      <td>0</td>\n",
       "      <td>2</td>\n",
       "      <td>25</td>\n",
       "      <td>YAVAPAI</td>\n",
       "      <td>90</td>\n",
       "      <td>CLARKDALE</td>\n",
       "      <td>...</td>\n",
       "      <td>2</td>\n",
       "      <td>Other Crash</td>\n",
       "      <td>1</td>\n",
       "      <td>Driver With Positive BAC Testing Crash</td>\n",
       "      <td>2</td>\n",
       "      <td>Other Crash</td>\n",
       "      <td>2</td>\n",
       "      <td>Other Crash</td>\n",
       "      <td>0</td>\n",
       "      <td>Not Tribal Lands</td>\n",
       "    </tr>\n",
       "  </tbody>\n",
       "</table>\n",
       "<p>2 rows × 79 columns</p>\n",
       "</div>"
      ],
      "text/plain": [
       "   accident_id  st_case  ve_total  ve_forms  peds  persons  county  \\\n",
       "0   2012040001    40001         1         1     0        1      19   \n",
       "1   2012040002    40002         1         1     0        2      25   \n",
       "\n",
       "  county_name  city    city_name  ...  a_polpur  a_polour_lit  a_posbac  \\\n",
       "0        PIMA     0  NONE LISTED  ...         2   Other Crash         1   \n",
       "1     YAVAPAI    90    CLARKDALE  ...         2   Other Crash         1   \n",
       "\n",
       "                             a_posbac_lit  a_dist   a_dist_lit  a_drowsy  \\\n",
       "0  Driver With Positive BAC Testing Crash       2  Other Crash         2   \n",
       "1  Driver With Positive BAC Testing Crash       2  Other Crash         2   \n",
       "\n",
       "  a_drowsy_lit  indian_res    indian_res_lit  \n",
       "0  Other Crash           0  Not Tribal Lands  \n",
       "1  Other Crash           0  Not Tribal Lands  \n",
       "\n",
       "[2 rows x 79 columns]"
      ]
     },
     "execution_count": 2,
     "metadata": {},
     "output_type": "execute_result"
    }
   ],
   "source": [
    "acc_df=pd.read_csv(r\"accident (2).tsv\",sep='\\t')  ## importing accident.tsv data\n",
    "print(\"Shape of the accident data is {}.\".format(acc_df.shape))  ## getting shape\n",
    "acc_df = acc_df.rename(columns=str.lower) ## converting all columns into lowercase data\n",
    "acc_df.head(2)"
   ]
  },
  {
   "cell_type": "code",
   "execution_count": 3,
   "metadata": {},
   "outputs": [
    {
     "name": "stdout",
     "output_type": "stream",
     "text": [
      "<class 'pandas.core.frame.DataFrame'>\n",
      "RangeIndex: 3904 entries, 0 to 3903\n",
      "Data columns (total 79 columns):\n",
      " #   Column          Non-Null Count  Dtype  \n",
      "---  ------          --------------  -----  \n",
      " 0   accident_id     3904 non-null   int64  \n",
      " 1   st_case         3904 non-null   int64  \n",
      " 2   ve_total        3904 non-null   int64  \n",
      " 3   ve_forms        3904 non-null   int64  \n",
      " 4   peds            3904 non-null   int64  \n",
      " 5   persons         3904 non-null   int64  \n",
      " 6   county          3904 non-null   int64  \n",
      " 7   county_name     3904 non-null   object \n",
      " 8   city            3904 non-null   int64  \n",
      " 9   city_name       3904 non-null   object \n",
      " 10  day             3904 non-null   int64  \n",
      " 11  month           3904 non-null   int64  \n",
      " 12  year            3904 non-null   int64  \n",
      " 13  hour            3904 non-null   int64  \n",
      " 14  minute          3904 non-null   int64  \n",
      " 15  nhs             3904 non-null   int64  \n",
      " 16  func_sys        1676 non-null   float64\n",
      " 17  func_sys_lit    3904 non-null   object \n",
      " 18  road_fnc        2228 non-null   float64\n",
      " 19  road_fnc_lit    3904 non-null   object \n",
      " 20  rd_owner        1676 non-null   float64\n",
      " 21  rd_owner_lit    3904 non-null   object \n",
      " 22  tway_id         3904 non-null   object \n",
      " 23  tway_id2        1109 non-null   object \n",
      " 24  latitude        3904 non-null   float64\n",
      " 25  longitud        3904 non-null   float64\n",
      " 26  sp_jur          3904 non-null   int64  \n",
      " 27  sp_jur_lit      3904 non-null   object \n",
      " 28  harm_ev         3904 non-null   int64  \n",
      " 29  harm_ev_lit     3904 non-null   object \n",
      " 30  man_coll        3904 non-null   int64  \n",
      " 31  man_coll_lit    3904 non-null   object \n",
      " 32  reljct1         3904 non-null   int64  \n",
      " 33  reljct2         3904 non-null   int64  \n",
      " 34  typ_int         3904 non-null   int64  \n",
      " 35  wrk_zone        3904 non-null   int64  \n",
      " 36  rel_road        3904 non-null   int64  \n",
      " 37  lgt_cond        3904 non-null   int64  \n",
      " 38  lgt_cond_lit    3904 non-null   object \n",
      " 39  weather         3904 non-null   int64  \n",
      " 40  weather_lit     3904 non-null   object \n",
      " 41  sch_bus         3904 non-null   object \n",
      " 42  cf1             3904 non-null   int64  \n",
      " 43  cf2             3904 non-null   int64  \n",
      " 44  cf3             3904 non-null   int64  \n",
      " 45  cf1_lit         3904 non-null   object \n",
      " 46  cf2_lit         3904 non-null   object \n",
      " 47  cf3_lit         3904 non-null   object \n",
      " 48  fatals          3904 non-null   int64  \n",
      " 49  a_inter         3904 non-null   int64  \n",
      " 50  a_inter_lit     3904 non-null   object \n",
      " 51  a_roadfc        3904 non-null   int64  \n",
      " 52  a_road_fc_lit   3904 non-null   object \n",
      " 53  a_tod           3904 non-null   int64  \n",
      " 54  a_tod_lit       3904 non-null   object \n",
      " 55  a_dow           3904 non-null   int64  \n",
      " 56  a_dow_lit       3904 non-null   object \n",
      " 57  a_lt            3904 non-null   int64  \n",
      " 58  a_lt_lit        3904 non-null   object \n",
      " 59  a_spcra         3904 non-null   int64  \n",
      " 60  a_spcra_lit     3904 non-null   object \n",
      " 61  a_ped           3904 non-null   int64  \n",
      " 62  a_ped_lit       3904 non-null   object \n",
      " 63  a_ped_f         3904 non-null   int64  \n",
      " 64  a_ped_f_lit     3904 non-null   object \n",
      " 65  a_pedal         3904 non-null   int64  \n",
      " 66  a_pedal_lit     3904 non-null   object \n",
      " 67  a_pedal_f       3904 non-null   int64  \n",
      " 68  a_pedal_f_lit   3904 non-null   object \n",
      " 69  a_polpur        3904 non-null   int64  \n",
      " 70  a_polour_lit    3904 non-null   object \n",
      " 71  a_posbac        3904 non-null   int64  \n",
      " 72  a_posbac_lit    3904 non-null   object \n",
      " 73  a_dist          3904 non-null   int64  \n",
      " 74  a_dist_lit      3904 non-null   object \n",
      " 75  a_drowsy        3904 non-null   int64  \n",
      " 76  a_drowsy_lit    3904 non-null   object \n",
      " 77  indian_res      3904 non-null   int64  \n",
      " 78  indian_res_lit  3904 non-null   object \n",
      "dtypes: float64(5), int64(43), object(31)\n",
      "memory usage: 2.4+ MB\n"
     ]
    }
   ],
   "source": [
    "# Dataset information\n",
    "acc_df.info()\n"
   ]
  },
  {
   "cell_type": "markdown",
   "metadata": {},
   "source": [
    "### 2.2 vehicle data\n",
    "\n",
    "The data represents the vehicle involves in the accident."
   ]
  },
  {
   "cell_type": "code",
   "execution_count": 4,
   "metadata": {},
   "outputs": [
    {
     "name": "stdout",
     "output_type": "stream",
     "text": [
      "Shape of the vehicle data is (5889, 131).\n"
     ]
    },
    {
     "data": {
      "text/html": [
       "<div>\n",
       "<style scoped>\n",
       "    .dataframe tbody tr th:only-of-type {\n",
       "        vertical-align: middle;\n",
       "    }\n",
       "\n",
       "    .dataframe tbody tr th {\n",
       "        vertical-align: top;\n",
       "    }\n",
       "\n",
       "    .dataframe thead th {\n",
       "        text-align: right;\n",
       "    }\n",
       "</style>\n",
       "<table border=\"1\" class=\"dataframe\">\n",
       "  <thead>\n",
       "    <tr style=\"text-align: right;\">\n",
       "      <th></th>\n",
       "      <th>accident_id</th>\n",
       "      <th>state</th>\n",
       "      <th>st_case</th>\n",
       "      <th>veh_no</th>\n",
       "      <th>ve_forms</th>\n",
       "      <th>numoccs</th>\n",
       "      <th>day</th>\n",
       "      <th>month</th>\n",
       "      <th>hour</th>\n",
       "      <th>minute</th>\n",
       "      <th>...</th>\n",
       "      <th>displace</th>\n",
       "      <th>mcycl_cy</th>\n",
       "      <th>mcycl_wt</th>\n",
       "      <th>tire_sze</th>\n",
       "      <th>ton_rat</th>\n",
       "      <th>trk_wt</th>\n",
       "      <th>trkwtvar</th>\n",
       "      <th>vin_rest</th>\n",
       "      <th>whldrwhl</th>\n",
       "      <th>year</th>\n",
       "    </tr>\n",
       "  </thead>\n",
       "  <tbody>\n",
       "    <tr>\n",
       "      <th>0</th>\n",
       "      <td>2016040001</td>\n",
       "      <td>4</td>\n",
       "      <td>40001</td>\n",
       "      <td>1</td>\n",
       "      <td>1</td>\n",
       "      <td>5</td>\n",
       "      <td>2</td>\n",
       "      <td>1</td>\n",
       "      <td>13</td>\n",
       "      <td>54</td>\n",
       "      <td>...</td>\n",
       "      <td>NaN</td>\n",
       "      <td>NaN</td>\n",
       "      <td>NaN</td>\n",
       "      <td>NaN</td>\n",
       "      <td>NaN</td>\n",
       "      <td>NaN</td>\n",
       "      <td>NaN</td>\n",
       "      <td>NaN</td>\n",
       "      <td>NaN</td>\n",
       "      <td>2016</td>\n",
       "    </tr>\n",
       "    <tr>\n",
       "      <th>1</th>\n",
       "      <td>2016040002</td>\n",
       "      <td>4</td>\n",
       "      <td>40002</td>\n",
       "      <td>1</td>\n",
       "      <td>1</td>\n",
       "      <td>99</td>\n",
       "      <td>2</td>\n",
       "      <td>1</td>\n",
       "      <td>21</td>\n",
       "      <td>26</td>\n",
       "      <td>...</td>\n",
       "      <td>NaN</td>\n",
       "      <td>NaN</td>\n",
       "      <td>NaN</td>\n",
       "      <td>NaN</td>\n",
       "      <td>NaN</td>\n",
       "      <td>NaN</td>\n",
       "      <td>NaN</td>\n",
       "      <td>NaN</td>\n",
       "      <td>NaN</td>\n",
       "      <td>2016</td>\n",
       "    </tr>\n",
       "    <tr>\n",
       "      <th>2</th>\n",
       "      <td>2016040003</td>\n",
       "      <td>4</td>\n",
       "      <td>40003</td>\n",
       "      <td>1</td>\n",
       "      <td>1</td>\n",
       "      <td>6</td>\n",
       "      <td>3</td>\n",
       "      <td>1</td>\n",
       "      <td>6</td>\n",
       "      <td>56</td>\n",
       "      <td>...</td>\n",
       "      <td>NaN</td>\n",
       "      <td>NaN</td>\n",
       "      <td>NaN</td>\n",
       "      <td>NaN</td>\n",
       "      <td>NaN</td>\n",
       "      <td>NaN</td>\n",
       "      <td>NaN</td>\n",
       "      <td>NaN</td>\n",
       "      <td>NaN</td>\n",
       "      <td>2016</td>\n",
       "    </tr>\n",
       "    <tr>\n",
       "      <th>3</th>\n",
       "      <td>2016040004</td>\n",
       "      <td>4</td>\n",
       "      <td>40004</td>\n",
       "      <td>1</td>\n",
       "      <td>2</td>\n",
       "      <td>2</td>\n",
       "      <td>7</td>\n",
       "      <td>1</td>\n",
       "      <td>22</td>\n",
       "      <td>22</td>\n",
       "      <td>...</td>\n",
       "      <td>NaN</td>\n",
       "      <td>NaN</td>\n",
       "      <td>NaN</td>\n",
       "      <td>NaN</td>\n",
       "      <td>NaN</td>\n",
       "      <td>NaN</td>\n",
       "      <td>NaN</td>\n",
       "      <td>NaN</td>\n",
       "      <td>NaN</td>\n",
       "      <td>2016</td>\n",
       "    </tr>\n",
       "    <tr>\n",
       "      <th>4</th>\n",
       "      <td>2016040004</td>\n",
       "      <td>4</td>\n",
       "      <td>40004</td>\n",
       "      <td>2</td>\n",
       "      <td>2</td>\n",
       "      <td>3</td>\n",
       "      <td>7</td>\n",
       "      <td>1</td>\n",
       "      <td>22</td>\n",
       "      <td>22</td>\n",
       "      <td>...</td>\n",
       "      <td>NaN</td>\n",
       "      <td>NaN</td>\n",
       "      <td>NaN</td>\n",
       "      <td>NaN</td>\n",
       "      <td>NaN</td>\n",
       "      <td>NaN</td>\n",
       "      <td>NaN</td>\n",
       "      <td>NaN</td>\n",
       "      <td>NaN</td>\n",
       "      <td>2016</td>\n",
       "    </tr>\n",
       "  </tbody>\n",
       "</table>\n",
       "<p>5 rows × 131 columns</p>\n",
       "</div>"
      ],
      "text/plain": [
       "   accident_id  state  st_case  veh_no  ve_forms  numoccs  day  month  hour  \\\n",
       "0   2016040001      4    40001       1         1        5    2      1    13   \n",
       "1   2016040002      4    40002       1         1       99    2      1    21   \n",
       "2   2016040003      4    40003       1         1        6    3      1     6   \n",
       "3   2016040004      4    40004       1         2        2    7      1    22   \n",
       "4   2016040004      4    40004       2         2        3    7      1    22   \n",
       "\n",
       "   minute  ...  displace  mcycl_cy  mcycl_wt  tire_sze  ton_rat  trk_wt  \\\n",
       "0      54  ...       NaN       NaN       NaN       NaN      NaN     NaN   \n",
       "1      26  ...       NaN       NaN       NaN       NaN      NaN     NaN   \n",
       "2      56  ...       NaN       NaN       NaN       NaN      NaN     NaN   \n",
       "3      22  ...       NaN       NaN       NaN       NaN      NaN     NaN   \n",
       "4      22  ...       NaN       NaN       NaN       NaN      NaN     NaN   \n",
       "\n",
       "   trkwtvar  vin_rest  whldrwhl  year  \n",
       "0       NaN       NaN       NaN  2016  \n",
       "1       NaN       NaN       NaN  2016  \n",
       "2       NaN       NaN       NaN  2016  \n",
       "3       NaN       NaN       NaN  2016  \n",
       "4       NaN       NaN       NaN  2016  \n",
       "\n",
       "[5 rows x 131 columns]"
      ]
     },
     "execution_count": 4,
     "metadata": {},
     "output_type": "execute_result"
    }
   ],
   "source": [
    "vec_df=pd.read_csv(r\"vehicle.tsv\", sep='\\t') ## importing vehicle.tsv data\n",
    "print(\"Shape of the vehicle data is {}.\".format(vec_df.shape))  ## getting shape\n",
    "vec_df = vec_df.rename(columns=str.lower) ## converting all columns into lowercase data\n",
    "vec_df.head(5)  ## getting head"
   ]
  },
  {
   "cell_type": "code",
   "execution_count": 5,
   "metadata": {},
   "outputs": [
    {
     "name": "stdout",
     "output_type": "stream",
     "text": [
      "<class 'pandas.core.frame.DataFrame'>\n",
      "RangeIndex: 5889 entries, 0 to 5888\n",
      "Columns: 131 entries, accident_id to year\n",
      "dtypes: float64(14), int64(89), object(28)\n",
      "memory usage: 5.9+ MB\n"
     ]
    }
   ],
   "source": [
    "vec_df.info()"
   ]
  },
  {
   "cell_type": "markdown",
   "metadata": {},
   "source": [
    "### 2.4 Merging the dataset"
   ]
  },
  {
   "cell_type": "code",
   "execution_count": 6,
   "metadata": {},
   "outputs": [
    {
     "name": "stdout",
     "output_type": "stream",
     "text": [
      "Shape of the data after merging all columns are (5889, 205).\n"
     ]
    },
    {
     "data": {
      "text/html": [
       "<div>\n",
       "<style scoped>\n",
       "    .dataframe tbody tr th:only-of-type {\n",
       "        vertical-align: middle;\n",
       "    }\n",
       "\n",
       "    .dataframe tbody tr th {\n",
       "        vertical-align: top;\n",
       "    }\n",
       "\n",
       "    .dataframe thead th {\n",
       "        text-align: right;\n",
       "    }\n",
       "</style>\n",
       "<table border=\"1\" class=\"dataframe\">\n",
       "  <thead>\n",
       "    <tr style=\"text-align: right;\">\n",
       "      <th></th>\n",
       "      <th>accident_id</th>\n",
       "      <th>st_case</th>\n",
       "      <th>ve_total</th>\n",
       "      <th>ve_forms</th>\n",
       "      <th>peds</th>\n",
       "      <th>persons</th>\n",
       "      <th>county</th>\n",
       "      <th>county_name</th>\n",
       "      <th>city</th>\n",
       "      <th>city_name</th>\n",
       "      <th>...</th>\n",
       "      <th>displace</th>\n",
       "      <th>mcycl_cy</th>\n",
       "      <th>mcycl_wt</th>\n",
       "      <th>tire_sze</th>\n",
       "      <th>ton_rat</th>\n",
       "      <th>trk_wt</th>\n",
       "      <th>trkwtvar</th>\n",
       "      <th>vin_rest</th>\n",
       "      <th>whldrwhl</th>\n",
       "      <th>year_y</th>\n",
       "    </tr>\n",
       "  </thead>\n",
       "  <tbody>\n",
       "    <tr>\n",
       "      <th>0</th>\n",
       "      <td>2012040001</td>\n",
       "      <td>40001</td>\n",
       "      <td>1</td>\n",
       "      <td>1</td>\n",
       "      <td>0</td>\n",
       "      <td>1</td>\n",
       "      <td>19</td>\n",
       "      <td>PIMA</td>\n",
       "      <td>0</td>\n",
       "      <td>NONE LISTED</td>\n",
       "      <td>...</td>\n",
       "      <td>NaN</td>\n",
       "      <td>4.0</td>\n",
       "      <td>600.0</td>\n",
       "      <td>NaN</td>\n",
       "      <td>NaN</td>\n",
       "      <td>NaN</td>\n",
       "      <td>NaN</td>\n",
       "      <td>NaN</td>\n",
       "      <td>NaN</td>\n",
       "      <td>2012</td>\n",
       "    </tr>\n",
       "    <tr>\n",
       "      <th>1</th>\n",
       "      <td>2012040002</td>\n",
       "      <td>40002</td>\n",
       "      <td>1</td>\n",
       "      <td>1</td>\n",
       "      <td>0</td>\n",
       "      <td>2</td>\n",
       "      <td>25</td>\n",
       "      <td>YAVAPAI</td>\n",
       "      <td>90</td>\n",
       "      <td>CLARKDALE</td>\n",
       "      <td>...</td>\n",
       "      <td>NaN</td>\n",
       "      <td>4.0</td>\n",
       "      <td>723.0</td>\n",
       "      <td>NaN</td>\n",
       "      <td>NaN</td>\n",
       "      <td>NaN</td>\n",
       "      <td>NaN</td>\n",
       "      <td>NaN</td>\n",
       "      <td>NaN</td>\n",
       "      <td>2012</td>\n",
       "    </tr>\n",
       "  </tbody>\n",
       "</table>\n",
       "<p>2 rows × 205 columns</p>\n",
       "</div>"
      ],
      "text/plain": [
       "   accident_id  st_case  ve_total  ve_forms  peds  persons  county  \\\n",
       "0   2012040001    40001         1         1     0        1      19   \n",
       "1   2012040002    40002         1         1     0        2      25   \n",
       "\n",
       "  county_name  city    city_name  ...  displace  mcycl_cy  mcycl_wt  tire_sze  \\\n",
       "0        PIMA     0  NONE LISTED  ...       NaN       4.0     600.0       NaN   \n",
       "1     YAVAPAI    90    CLARKDALE  ...       NaN       4.0     723.0       NaN   \n",
       "\n",
       "   ton_rat  trk_wt  trkwtvar vin_rest  whldrwhl year_y  \n",
       "0      NaN     NaN       NaN      NaN       NaN   2012  \n",
       "1      NaN     NaN       NaN      NaN       NaN   2012  \n",
       "\n",
       "[2 rows x 205 columns]"
      ]
     },
     "execution_count": 6,
     "metadata": {},
     "output_type": "execute_result"
    }
   ],
   "source": [
    "## merging accident and vehicle data on accident id\n",
    "final_df = pd.merge(acc_df, vec_df, on=[\"accident_id\", \"st_case\", \"ve_forms\", 'harm_ev', 'man_coll'])\n",
    "### getting final shape and head\n",
    "print(\"Shape of the data after merging all columns are {}.\".format(final_df.shape))\n",
    "### getting head\n",
    "final_df.head(2)"
   ]
  },
  {
   "cell_type": "markdown",
   "metadata": {},
   "source": [
    "## 3. Data Cleaning"
   ]
  },
  {
   "cell_type": "markdown",
   "metadata": {},
   "source": [
    "### 3.1 Duplicate Column Analysis"
   ]
  },
  {
   "cell_type": "markdown",
   "metadata": {},
   "source": [
    "#### 3.1.1 removing all columns with encoded values and have _lit as other columns"
   ]
  },
  {
   "cell_type": "code",
   "execution_count": 7,
   "metadata": {},
   "outputs": [
    {
     "name": "stdout",
     "output_type": "stream",
     "text": [
      "Shape after dropping the encoded columns is (5889, 179).\n"
     ]
    }
   ],
   "source": [
    "## as we can read above all columns with \"lit\" is the lireral meaning of the corresponding columns\n",
    "col_rem = [i.replace(\"_lit\", \"\") for i in list(final_df.columns) if \"_lit\" in i]\n",
    "col_rem.remove('a_road_fc'); col_rem.remove('a_polour')  ## remove \n",
    "col_rem.append(\"a_roadfc\"); col_rem.append(\"a_polpur\")   ## appending same columns with different name\n",
    "\n",
    "final_df_m1 = final_df.drop(columns = col_rem)   ## drop columns\n",
    "## sanity check\n",
    "print(\"Shape after dropping the encoded columns is {}.\".format(final_df_m1.shape))"
   ]
  },
  {
   "cell_type": "markdown",
   "metadata": {},
   "source": [
    "#### 3.1.2 removal of redundent columns present in both accident and vehicle file"
   ]
  },
  {
   "cell_type": "code",
   "execution_count": 8,
   "metadata": {},
   "outputs": [
    {
     "data": {
      "text/html": [
       "<div>\n",
       "<style scoped>\n",
       "    .dataframe tbody tr th:only-of-type {\n",
       "        vertical-align: middle;\n",
       "    }\n",
       "\n",
       "    .dataframe tbody tr th {\n",
       "        vertical-align: top;\n",
       "    }\n",
       "\n",
       "    .dataframe thead th {\n",
       "        text-align: right;\n",
       "    }\n",
       "</style>\n",
       "<table border=\"1\" class=\"dataframe\">\n",
       "  <thead>\n",
       "    <tr style=\"text-align: right;\">\n",
       "      <th></th>\n",
       "      <th>day_x</th>\n",
       "      <th>day_y</th>\n",
       "      <th>hour_x</th>\n",
       "      <th>hour_y</th>\n",
       "      <th>minute_x</th>\n",
       "      <th>minute_y</th>\n",
       "      <th>month_x</th>\n",
       "      <th>month_y</th>\n",
       "      <th>year_x</th>\n",
       "      <th>year_y</th>\n",
       "    </tr>\n",
       "  </thead>\n",
       "  <tbody>\n",
       "    <tr>\n",
       "      <th>0</th>\n",
       "      <td>1</td>\n",
       "      <td>1</td>\n",
       "      <td>2</td>\n",
       "      <td>2</td>\n",
       "      <td>13</td>\n",
       "      <td>13</td>\n",
       "      <td>1</td>\n",
       "      <td>1</td>\n",
       "      <td>2012</td>\n",
       "      <td>2012</td>\n",
       "    </tr>\n",
       "    <tr>\n",
       "      <th>1</th>\n",
       "      <td>1</td>\n",
       "      <td>1</td>\n",
       "      <td>16</td>\n",
       "      <td>16</td>\n",
       "      <td>33</td>\n",
       "      <td>33</td>\n",
       "      <td>1</td>\n",
       "      <td>1</td>\n",
       "      <td>2012</td>\n",
       "      <td>2012</td>\n",
       "    </tr>\n",
       "    <tr>\n",
       "      <th>2</th>\n",
       "      <td>1</td>\n",
       "      <td>1</td>\n",
       "      <td>18</td>\n",
       "      <td>18</td>\n",
       "      <td>4</td>\n",
       "      <td>4</td>\n",
       "      <td>1</td>\n",
       "      <td>1</td>\n",
       "      <td>2012</td>\n",
       "      <td>2012</td>\n",
       "    </tr>\n",
       "    <tr>\n",
       "      <th>3</th>\n",
       "      <td>1</td>\n",
       "      <td>1</td>\n",
       "      <td>20</td>\n",
       "      <td>20</td>\n",
       "      <td>3</td>\n",
       "      <td>3</td>\n",
       "      <td>1</td>\n",
       "      <td>1</td>\n",
       "      <td>2012</td>\n",
       "      <td>2012</td>\n",
       "    </tr>\n",
       "    <tr>\n",
       "      <th>4</th>\n",
       "      <td>1</td>\n",
       "      <td>1</td>\n",
       "      <td>20</td>\n",
       "      <td>20</td>\n",
       "      <td>3</td>\n",
       "      <td>3</td>\n",
       "      <td>1</td>\n",
       "      <td>1</td>\n",
       "      <td>2012</td>\n",
       "      <td>2012</td>\n",
       "    </tr>\n",
       "  </tbody>\n",
       "</table>\n",
       "</div>"
      ],
      "text/plain": [
       "   day_x  day_y  hour_x  hour_y  minute_x  minute_y  month_x  month_y  year_x  \\\n",
       "0      1      1       2       2        13        13        1        1    2012   \n",
       "1      1      1      16      16        33        33        1        1    2012   \n",
       "2      1      1      18      18         4         4        1        1    2012   \n",
       "3      1      1      20      20         3         3        1        1    2012   \n",
       "4      1      1      20      20         3         3        1        1    2012   \n",
       "\n",
       "   year_y  \n",
       "0    2012  \n",
       "1    2012  \n",
       "2    2012  \n",
       "3    2012  \n",
       "4    2012  "
      ]
     },
     "execution_count": 8,
     "metadata": {},
     "output_type": "execute_result"
    }
   ],
   "source": [
    "## we saw there were many columns with duplicate information in all three columns now it has come as _x, _y\n",
    "## we need to check and remove the redundent one\n",
    "dup_col = sorted([i for i in list(final_df_m1.columns) if (i[-2:] in \"_x\") or (i[-2:] in \"_y\")])\n",
    "## checking values\n",
    "final_df_m1[dup_col].head()"
   ]
  },
  {
   "cell_type": "code",
   "execution_count": 9,
   "metadata": {},
   "outputs": [
    {
     "name": "stdout",
     "output_type": "stream",
     "text": [
      "Shape after removing redundent columns are (5889, 174).\n"
     ]
    }
   ],
   "source": [
    "## removing all redundent columns\n",
    "dup_col_rem = sorted([i for i in list(final_df_m1.columns) if (i[-2:] in \"_y\")])\n",
    "final_df_m2 = final_df_m1.drop(columns = dup_col_rem)\n",
    "## sanity check\n",
    "print(\"Shape after removing redundent columns are {}.\".format(final_df_m2.shape))"
   ]
  },
  {
   "cell_type": "markdown",
   "metadata": {},
   "source": [
    "### 3.2 Null Values Analysis\n",
    "\n",
    "* The dataset contains null values in the form of None,NONE LISTED,UNKNOWN and \".\" inside the columns. Before proceeding into analysis, we must replace these values as well."
   ]
  },
  {
   "cell_type": "code",
   "execution_count": 10,
   "metadata": {},
   "outputs": [],
   "source": [
    "## there are some columns with null values as none and \".\"\n",
    "for col in final_df_m2.columns:\n",
    "    final_df_m2[col] = final_df_m2[col].replace(\"None\", np.nan)\n",
    "    final_df_m2[col] = final_df_m2[col].replace(\".\", np.nan)\n",
    "    final_df_m2[col] = final_df_m2[col].replace(\"NONE LISTED\", np.nan)   ## city name\n",
    "    final_df_m2[col] = final_df_m2[col].replace(\"UNKNOWN\", np.nan)   ## city name"
   ]
  },
  {
   "cell_type": "code",
   "execution_count": 11,
   "metadata": {
    "scrolled": true
   },
   "outputs": [],
   "source": [
    "#getting missing value counts\n",
    "count = final_df_m2.isnull().sum()\n",
    "\n",
    "#getting missing value percentage\n",
    "percentage = 100 * ((final_df_m2.isnull().sum()) / (final_df_m2.shape[0]))\n",
    "\n",
    "#creating dataframe and renaming column\n",
    "table = pd.concat([count, percentage], axis=1).rename(columns = {0:\"missing_count\", 1:\"missing_percentage\"})"
   ]
  },
  {
   "cell_type": "code",
   "execution_count": 12,
   "metadata": {},
   "outputs": [
    {
     "data": {
      "text/html": [
       "<div>\n",
       "<style scoped>\n",
       "    .dataframe tbody tr th:only-of-type {\n",
       "        vertical-align: middle;\n",
       "    }\n",
       "\n",
       "    .dataframe tbody tr th {\n",
       "        vertical-align: top;\n",
       "    }\n",
       "\n",
       "    .dataframe thead th {\n",
       "        text-align: right;\n",
       "    }\n",
       "</style>\n",
       "<table border=\"1\" class=\"dataframe\">\n",
       "  <thead>\n",
       "    <tr style=\"text-align: right;\">\n",
       "      <th></th>\n",
       "      <th>func_sys_lit</th>\n",
       "      <th>road_fnc_lit</th>\n",
       "      <th>rd_owner_lit</th>\n",
       "      <th>tway_id2</th>\n",
       "      <th>cf1_lit</th>\n",
       "      <th>cf2_lit</th>\n",
       "      <th>cf3_lit</th>\n",
       "      <th>trlr1vin</th>\n",
       "      <th>trlr2vin</th>\n",
       "      <th>trlr3vin</th>\n",
       "      <th>...</th>\n",
       "      <th>cylinder</th>\n",
       "      <th>displace</th>\n",
       "      <th>mcycl_cy</th>\n",
       "      <th>mcycl_wt</th>\n",
       "      <th>tire_sze</th>\n",
       "      <th>ton_rat</th>\n",
       "      <th>trk_wt</th>\n",
       "      <th>trkwtvar</th>\n",
       "      <th>vin_rest</th>\n",
       "      <th>whldrwhl</th>\n",
       "    </tr>\n",
       "  </thead>\n",
       "  <tbody>\n",
       "    <tr>\n",
       "      <th>missing_count</th>\n",
       "      <td>3317.00</td>\n",
       "      <td>2572.00</td>\n",
       "      <td>3317.00</td>\n",
       "      <td>3938.00</td>\n",
       "      <td>5190.00</td>\n",
       "      <td>5807.00</td>\n",
       "      <td>5879.00</td>\n",
       "      <td>4563.00</td>\n",
       "      <td>4563.00</td>\n",
       "      <td>4563.00</td>\n",
       "      <td>...</td>\n",
       "      <td>4892.00</td>\n",
       "      <td>5023.00</td>\n",
       "      <td>5759.00</td>\n",
       "      <td>5759.00</td>\n",
       "      <td>5335.00</td>\n",
       "      <td>5680.00</td>\n",
       "      <td>5577.0</td>\n",
       "      <td>5577.0</td>\n",
       "      <td>5694.00</td>\n",
       "      <td>5577.0</td>\n",
       "    </tr>\n",
       "    <tr>\n",
       "      <th>missing_percentage</th>\n",
       "      <td>56.33</td>\n",
       "      <td>43.67</td>\n",
       "      <td>56.33</td>\n",
       "      <td>66.87</td>\n",
       "      <td>88.13</td>\n",
       "      <td>98.61</td>\n",
       "      <td>99.83</td>\n",
       "      <td>77.48</td>\n",
       "      <td>77.48</td>\n",
       "      <td>77.48</td>\n",
       "      <td>...</td>\n",
       "      <td>83.07</td>\n",
       "      <td>85.29</td>\n",
       "      <td>97.79</td>\n",
       "      <td>97.79</td>\n",
       "      <td>90.59</td>\n",
       "      <td>96.45</td>\n",
       "      <td>94.7</td>\n",
       "      <td>94.7</td>\n",
       "      <td>96.69</td>\n",
       "      <td>94.7</td>\n",
       "    </tr>\n",
       "  </tbody>\n",
       "</table>\n",
       "<p>2 rows × 34 columns</p>\n",
       "</div>"
      ],
      "text/plain": [
       "                    func_sys_lit  road_fnc_lit  rd_owner_lit  tway_id2  \\\n",
       "missing_count            3317.00       2572.00       3317.00   3938.00   \n",
       "missing_percentage         56.33         43.67         56.33     66.87   \n",
       "\n",
       "                    cf1_lit  cf2_lit  cf3_lit  trlr1vin  trlr2vin  trlr3vin  \\\n",
       "missing_count       5190.00  5807.00  5879.00   4563.00   4563.00   4563.00   \n",
       "missing_percentage    88.13    98.61    99.83     77.48     77.48     77.48   \n",
       "\n",
       "                    ...  cylinder  displace  mcycl_cy  mcycl_wt  tire_sze  \\\n",
       "missing_count       ...   4892.00   5023.00   5759.00   5759.00   5335.00   \n",
       "missing_percentage  ...     83.07     85.29     97.79     97.79     90.59   \n",
       "\n",
       "                    ton_rat  trk_wt  trkwtvar  vin_rest  whldrwhl  \n",
       "missing_count       5680.00  5577.0    5577.0   5694.00    5577.0  \n",
       "missing_percentage    96.45    94.7      94.7     96.69      94.7  \n",
       "\n",
       "[2 rows x 34 columns]"
      ]
     },
     "execution_count": 12,
     "metadata": {},
     "output_type": "execute_result"
    }
   ],
   "source": [
    "## show table with only missing percentage more than 40%\n",
    "table[table['missing_percentage'] > 40].round(2).transpose()"
   ]
  },
  {
   "cell_type": "markdown",
   "metadata": {},
   "source": [
    "### Observation\n",
    "* To keep all the values with more than 40% null values is not logical. So removing all columns at once."
   ]
  },
  {
   "cell_type": "code",
   "execution_count": 13,
   "metadata": {},
   "outputs": [
    {
     "name": "stdout",
     "output_type": "stream",
     "text": [
      "Shape after dropping the null columns is (5889, 140).\n"
     ]
    }
   ],
   "source": [
    "to_drop = list(table[table['missing_percentage'] > 40].transpose().columns)  ## getting column names to drop\n",
    "final_df_m3 = final_df_m2.drop(columns = to_drop)  ### dropping all selected columns\n",
    "## sanity check\n",
    "print(\"Shape after dropping the null columns is {}.\".format(final_df_m3.shape))"
   ]
  },
  {
   "cell_type": "markdown",
   "metadata": {},
   "source": [
    "### 3.3 Duplicate rows analysis"
   ]
  },
  {
   "cell_type": "code",
   "execution_count": 14,
   "metadata": {
    "scrolled": true
   },
   "outputs": [
    {
     "data": {
      "text/html": [
       "<div>\n",
       "<style scoped>\n",
       "    .dataframe tbody tr th:only-of-type {\n",
       "        vertical-align: middle;\n",
       "    }\n",
       "\n",
       "    .dataframe tbody tr th {\n",
       "        vertical-align: top;\n",
       "    }\n",
       "\n",
       "    .dataframe thead th {\n",
       "        text-align: right;\n",
       "    }\n",
       "</style>\n",
       "<table border=\"1\" class=\"dataframe\">\n",
       "  <thead>\n",
       "    <tr style=\"text-align: right;\">\n",
       "      <th></th>\n",
       "      <th>accident_id</th>\n",
       "      <th>st_case</th>\n",
       "      <th>ve_total</th>\n",
       "      <th>ve_forms</th>\n",
       "      <th>peds</th>\n",
       "      <th>persons</th>\n",
       "      <th>county</th>\n",
       "      <th>county_name</th>\n",
       "      <th>city</th>\n",
       "      <th>city_name</th>\n",
       "      <th>...</th>\n",
       "      <th>vtrafcon</th>\n",
       "      <th>vtcont_f</th>\n",
       "      <th>p_crash1</th>\n",
       "      <th>p_crash2</th>\n",
       "      <th>p_crash3</th>\n",
       "      <th>pcrash4</th>\n",
       "      <th>pcrash5</th>\n",
       "      <th>acc_type</th>\n",
       "      <th>deaths</th>\n",
       "      <th>dr_drink</th>\n",
       "    </tr>\n",
       "  </thead>\n",
       "  <tbody>\n",
       "  </tbody>\n",
       "</table>\n",
       "<p>0 rows × 140 columns</p>\n",
       "</div>"
      ],
      "text/plain": [
       "Empty DataFrame\n",
       "Columns: [accident_id, st_case, ve_total, ve_forms, peds, persons, county, county_name, city, city_name, day_x, month_x, year_x, hour_x, minute_x, nhs, tway_id, latitude, longitud, sp_jur_lit, harm_ev_lit, man_coll_lit, reljct1, reljct2, typ_int, wrk_zone, rel_road, lgt_cond_lit, weather_lit, sch_bus, fatals, a_inter_lit, a_road_fc_lit, a_tod_lit, a_dow_lit, a_lt_lit, a_spcra_lit, a_ped_lit, a_ped_f_lit, a_pedal_lit, a_pedal_f_lit, a_polour_lit, a_posbac_lit, a_dist_lit, a_drowsy_lit, indian_res_lit, state, veh_no, numoccs, unittype, hit_run, reg_stat, owner, make, model, mak_mod, body_typ, mod_year, vin, vin_1, vin_2, vin_3, vin_4, vin_5, vin_6, vin_7, vin_8, vin_9, vin_10, vin_11, vin_12, tow_veh, j_knife, mcarr_i1, mcarr_i2, mcarr_id, gvwr, v_config, cargo_bt, haz_inv, haz_plac, haz_id, haz_cno, haz_rel, bus_use, spec_use, emer_use, trav_sp, underide, rollover, rolinloc, impact1, deformed, towed, m_harm, veh_sc1, veh_sc2, fire_exp, dr_pres, l_state, ...]\n",
       "Index: []\n",
       "\n",
       "[0 rows x 140 columns]"
      ]
     },
     "execution_count": 14,
     "metadata": {},
     "output_type": "execute_result"
    }
   ],
   "source": [
    "## checking for duplicate rows\n",
    "final_df_m3[final_df_m3.duplicated()]"
   ]
  },
  {
   "cell_type": "markdown",
   "metadata": {},
   "source": [
    "### Result:\n",
    "* no duplicate data is present."
   ]
  },
  {
   "cell_type": "markdown",
   "metadata": {},
   "source": [
    "### 3.4 Redundent Feature Removal"
   ]
  },
  {
   "cell_type": "code",
   "execution_count": 15,
   "metadata": {},
   "outputs": [],
   "source": [
    "## as we have date column we can map it into one\n",
    "final_df_m3[\"date_time\"] = final_df_m3[\"day_x\"].apply(str) + \"-\" + final_df_m3[\"month_x\"].apply(str) + \"-\"+ final_df_m3[\"year_x\"].apply(str)\n",
    "\n",
    "## dropping day, month, year, minutes columns\n",
    "## also city and county are redundent with city name and county name\n",
    "final_df_m4 = final_df_m3.drop(columns = [\"day_x\", \"month_x\", \"year_x\", \"minute_x\", \"county\", \"city\"])"
   ]
  },
  {
   "cell_type": "code",
   "execution_count": 16,
   "metadata": {},
   "outputs": [
    {
     "data": {
      "text/html": [
       "<div>\n",
       "<style scoped>\n",
       "    .dataframe tbody tr th:only-of-type {\n",
       "        vertical-align: middle;\n",
       "    }\n",
       "\n",
       "    .dataframe tbody tr th {\n",
       "        vertical-align: top;\n",
       "    }\n",
       "\n",
       "    .dataframe thead th {\n",
       "        text-align: right;\n",
       "    }\n",
       "</style>\n",
       "<table border=\"1\" class=\"dataframe\">\n",
       "  <thead>\n",
       "    <tr style=\"text-align: right;\">\n",
       "      <th></th>\n",
       "      <th>vin</th>\n",
       "      <th>vin_1</th>\n",
       "      <th>vin_2</th>\n",
       "      <th>vin_3</th>\n",
       "      <th>vin_4</th>\n",
       "      <th>vin_5</th>\n",
       "      <th>vin_6</th>\n",
       "      <th>vin_7</th>\n",
       "      <th>vin_8</th>\n",
       "      <th>vin_9</th>\n",
       "      <th>vin_10</th>\n",
       "      <th>vin_11</th>\n",
       "      <th>vin_12</th>\n",
       "    </tr>\n",
       "  </thead>\n",
       "  <tbody>\n",
       "    <tr>\n",
       "      <th>0</th>\n",
       "      <td>JY4AM09Y67C0</td>\n",
       "      <td>J</td>\n",
       "      <td>Y</td>\n",
       "      <td>4</td>\n",
       "      <td>A</td>\n",
       "      <td>M</td>\n",
       "      <td>0</td>\n",
       "      <td>9</td>\n",
       "      <td>Y</td>\n",
       "      <td>6</td>\n",
       "      <td>7</td>\n",
       "      <td>C</td>\n",
       "      <td>0</td>\n",
       "    </tr>\n",
       "  </tbody>\n",
       "</table>\n",
       "</div>"
      ],
      "text/plain": [
       "            vin vin_1 vin_2 vin_3 vin_4 vin_5 vin_6 vin_7 vin_8 vin_9 vin_10  \\\n",
       "0  JY4AM09Y67C0     J     Y     4     A     M     0     9     Y     6      7   \n",
       "\n",
       "  vin_11 vin_12  \n",
       "0      C      0  "
      ]
     },
     "execution_count": 16,
     "metadata": {},
     "output_type": "execute_result"
    }
   ],
   "source": [
    "### vin_vechile - Identification Number\n",
    "### the number is present indivilually as we can see\n",
    "final_df_m5 = final_df_m4.drop(columns = list(final_df_m4.iloc[:,53:65].columns))\n",
    "## showing output\n",
    "final_df_m4.iloc[:,52:65].head(1)"
   ]
  },
  {
   "cell_type": "code",
   "execution_count": 17,
   "metadata": {},
   "outputs": [
    {
     "name": "stdout",
     "output_type": "stream",
     "text": [
      "Shape after dropping the unnecessary columns are (5889, 123).\n"
     ]
    }
   ],
   "source": [
    "## sanity check\n",
    "print(\"Shape after dropping the unnecessary columns are {}.\".format(final_df_m5.shape))"
   ]
  },
  {
   "cell_type": "code",
   "execution_count": 18,
   "metadata": {},
   "outputs": [],
   "source": [
    "### copy the final dataframe into another one\n",
    "df = final_df_m5.copy(deep = True)"
   ]
  },
  {
   "cell_type": "markdown",
   "metadata": {},
   "source": [
    "### Result:\n",
    "* Redundancy is removed.\n",
    "* two columns has made compact such rather than using 12 different columns for vehicle identification ,we can use one compact identification number vin only."
   ]
  },
  {
   "cell_type": "markdown",
   "metadata": {},
   "source": [
    "## Analysis with Visualization for easy understanding."
   ]
  },
  {
   "cell_type": "markdown",
   "metadata": {},
   "source": [
    "## 4. Exploratory Data Analysis"
   ]
  },
  {
   "cell_type": "markdown",
   "metadata": {},
   "source": [
    "### 4.1 details about accident "
   ]
  },
  {
   "cell_type": "markdown",
   "metadata": {},
   "source": [
    "* The total number of accident details present in the dataset is 3904, where as the dataset contains accident id multiple times as there are multiple vehicle involved in the accident. \n",
    "* Let's analyse that."
   ]
  },
  {
   "cell_type": "code",
   "execution_count": 19,
   "metadata": {},
   "outputs": [],
   "source": [
    "### bar plot function\n",
    "def bar_plot(data, xlabel_, ylabel_, title_, num, size, color):\n",
    "    \"\"\"\n",
    "    This function produces bar plot using pandas plot attribute\n",
    "    \"\"\"\n",
    "    plot = data.value_counts()[0:num].plot(kind=\"bar\", figsize=size, color=color)\n",
    "    plt.xlabel(xlabel_, fontsize=15)\n",
    "    plt.ylabel(ylabel_, fontsize=15)\n",
    "    plt.title(title_, fontsize=15)\n",
    "    plt.show()"
   ]
  },
  {
   "cell_type": "code",
   "execution_count": 20,
   "metadata": {},
   "outputs": [
    {
     "name": "stdout",
     "output_type": "stream",
     "text": [
      "There are 3904 accident id present in the dataset.\n"
     ]
    }
   ],
   "source": [
    "print(\"There are {} accident id present in the dataset.\".format(len(df[\"accident_id\"].unique())))\n",
    "\n"
   ]
  },
  {
   "cell_type": "code",
   "execution_count": 21,
   "metadata": {},
   "outputs": [
    {
     "data": {
      "image/png": "[encoded data removed]",
      "text/plain": [
       "<Figure size 720x360 with 1 Axes>"
      ]
     },
     "metadata": {
      "needs_background": "light"
     },
     "output_type": "display_data"
    }
   ],
   "source": [
    "bar_plot(df[\"accident_id\"], \"accident id\", \"count\", \"Total number of vehicle involved in each accident\", 30, (10,5), color=\"blue\")"
   ]
  },
  {
   "cell_type": "markdown",
   "metadata": {},
   "source": [
    "### Observation:\n",
    "* Although its weird to see that more than 16 vehicles are associated with one accident id,but sometimes due sudden breaking multiple cars bumps into each other."
   ]
  },
  {
   "cell_type": "code",
   "execution_count": 22,
   "metadata": {
    "scrolled": true
   },
   "outputs": [
    {
     "data": {
      "text/html": [
       "<div>\n",
       "<style scoped>\n",
       "    .dataframe tbody tr th:only-of-type {\n",
       "        vertical-align: middle;\n",
       "    }\n",
       "\n",
       "    .dataframe tbody tr th {\n",
       "        vertical-align: top;\n",
       "    }\n",
       "\n",
       "    .dataframe thead th {\n",
       "        text-align: right;\n",
       "    }\n",
       "</style>\n",
       "<table border=\"1\" class=\"dataframe\">\n",
       "  <thead>\n",
       "    <tr style=\"text-align: right;\">\n",
       "      <th></th>\n",
       "      <th>accident_id</th>\n",
       "      <th>st_case</th>\n",
       "      <th>ve_total</th>\n",
       "      <th>ve_forms</th>\n",
       "      <th>peds</th>\n",
       "      <th>persons</th>\n",
       "      <th>county_name</th>\n",
       "      <th>city_name</th>\n",
       "      <th>hour_x</th>\n",
       "      <th>nhs</th>\n",
       "      <th>...</th>\n",
       "      <th>vtcont_f</th>\n",
       "      <th>p_crash1</th>\n",
       "      <th>p_crash2</th>\n",
       "      <th>p_crash3</th>\n",
       "      <th>pcrash4</th>\n",
       "      <th>pcrash5</th>\n",
       "      <th>acc_type</th>\n",
       "      <th>deaths</th>\n",
       "      <th>dr_drink</th>\n",
       "      <th>date_time</th>\n",
       "    </tr>\n",
       "  </thead>\n",
       "  <tbody>\n",
       "    <tr>\n",
       "      <th>2165</th>\n",
       "      <td>2013040743</td>\n",
       "      <td>40743</td>\n",
       "      <td>17</td>\n",
       "      <td>17</td>\n",
       "      <td>0</td>\n",
       "      <td>22</td>\n",
       "      <td>PINAL</td>\n",
       "      <td>NaN</td>\n",
       "      <td>12</td>\n",
       "      <td>1</td>\n",
       "      <td>...</td>\n",
       "      <td>0</td>\n",
       "      <td>2</td>\n",
       "      <td>61</td>\n",
       "      <td>1</td>\n",
       "      <td>1</td>\n",
       "      <td>1</td>\n",
       "      <td>98</td>\n",
       "      <td>0</td>\n",
       "      <td>0</td>\n",
       "      <td>26-10-2013</td>\n",
       "    </tr>\n",
       "    <tr>\n",
       "      <th>2166</th>\n",
       "      <td>2013040743</td>\n",
       "      <td>40743</td>\n",
       "      <td>17</td>\n",
       "      <td>17</td>\n",
       "      <td>0</td>\n",
       "      <td>22</td>\n",
       "      <td>PINAL</td>\n",
       "      <td>NaN</td>\n",
       "      <td>12</td>\n",
       "      <td>1</td>\n",
       "      <td>...</td>\n",
       "      <td>0</td>\n",
       "      <td>1</td>\n",
       "      <td>50</td>\n",
       "      <td>7</td>\n",
       "      <td>1</td>\n",
       "      <td>3</td>\n",
       "      <td>32</td>\n",
       "      <td>0</td>\n",
       "      <td>0</td>\n",
       "      <td>26-10-2013</td>\n",
       "    </tr>\n",
       "    <tr>\n",
       "      <th>2167</th>\n",
       "      <td>2013040743</td>\n",
       "      <td>40743</td>\n",
       "      <td>17</td>\n",
       "      <td>17</td>\n",
       "      <td>0</td>\n",
       "      <td>22</td>\n",
       "      <td>PINAL</td>\n",
       "      <td>NaN</td>\n",
       "      <td>12</td>\n",
       "      <td>1</td>\n",
       "      <td>...</td>\n",
       "      <td>0</td>\n",
       "      <td>5</td>\n",
       "      <td>53</td>\n",
       "      <td>1</td>\n",
       "      <td>1</td>\n",
       "      <td>1</td>\n",
       "      <td>32</td>\n",
       "      <td>0</td>\n",
       "      <td>0</td>\n",
       "      <td>26-10-2013</td>\n",
       "    </tr>\n",
       "    <tr>\n",
       "      <th>2168</th>\n",
       "      <td>2013040743</td>\n",
       "      <td>40743</td>\n",
       "      <td>17</td>\n",
       "      <td>17</td>\n",
       "      <td>0</td>\n",
       "      <td>22</td>\n",
       "      <td>PINAL</td>\n",
       "      <td>NaN</td>\n",
       "      <td>12</td>\n",
       "      <td>1</td>\n",
       "      <td>...</td>\n",
       "      <td>0</td>\n",
       "      <td>5</td>\n",
       "      <td>60</td>\n",
       "      <td>1</td>\n",
       "      <td>1</td>\n",
       "      <td>4</td>\n",
       "      <td>98</td>\n",
       "      <td>0</td>\n",
       "      <td>0</td>\n",
       "      <td>26-10-2013</td>\n",
       "    </tr>\n",
       "    <tr>\n",
       "      <th>2169</th>\n",
       "      <td>2013040743</td>\n",
       "      <td>40743</td>\n",
       "      <td>17</td>\n",
       "      <td>17</td>\n",
       "      <td>0</td>\n",
       "      <td>22</td>\n",
       "      <td>PINAL</td>\n",
       "      <td>NaN</td>\n",
       "      <td>12</td>\n",
       "      <td>1</td>\n",
       "      <td>...</td>\n",
       "      <td>0</td>\n",
       "      <td>1</td>\n",
       "      <td>13</td>\n",
       "      <td>1</td>\n",
       "      <td>1</td>\n",
       "      <td>4</td>\n",
       "      <td>98</td>\n",
       "      <td>0</td>\n",
       "      <td>0</td>\n",
       "      <td>26-10-2013</td>\n",
       "    </tr>\n",
       "    <tr>\n",
       "      <th>2170</th>\n",
       "      <td>2013040743</td>\n",
       "      <td>40743</td>\n",
       "      <td>17</td>\n",
       "      <td>17</td>\n",
       "      <td>0</td>\n",
       "      <td>22</td>\n",
       "      <td>PINAL</td>\n",
       "      <td>NaN</td>\n",
       "      <td>12</td>\n",
       "      <td>1</td>\n",
       "      <td>...</td>\n",
       "      <td>0</td>\n",
       "      <td>5</td>\n",
       "      <td>13</td>\n",
       "      <td>1</td>\n",
       "      <td>1</td>\n",
       "      <td>5</td>\n",
       "      <td>98</td>\n",
       "      <td>0</td>\n",
       "      <td>0</td>\n",
       "      <td>26-10-2013</td>\n",
       "    </tr>\n",
       "    <tr>\n",
       "      <th>2171</th>\n",
       "      <td>2013040743</td>\n",
       "      <td>40743</td>\n",
       "      <td>17</td>\n",
       "      <td>17</td>\n",
       "      <td>0</td>\n",
       "      <td>22</td>\n",
       "      <td>PINAL</td>\n",
       "      <td>NaN</td>\n",
       "      <td>12</td>\n",
       "      <td>1</td>\n",
       "      <td>...</td>\n",
       "      <td>0</td>\n",
       "      <td>1</td>\n",
       "      <td>13</td>\n",
       "      <td>1</td>\n",
       "      <td>1</td>\n",
       "      <td>1</td>\n",
       "      <td>98</td>\n",
       "      <td>0</td>\n",
       "      <td>0</td>\n",
       "      <td>26-10-2013</td>\n",
       "    </tr>\n",
       "    <tr>\n",
       "      <th>2172</th>\n",
       "      <td>2013040743</td>\n",
       "      <td>40743</td>\n",
       "      <td>17</td>\n",
       "      <td>17</td>\n",
       "      <td>0</td>\n",
       "      <td>22</td>\n",
       "      <td>PINAL</td>\n",
       "      <td>NaN</td>\n",
       "      <td>12</td>\n",
       "      <td>1</td>\n",
       "      <td>...</td>\n",
       "      <td>0</td>\n",
       "      <td>1</td>\n",
       "      <td>50</td>\n",
       "      <td>1</td>\n",
       "      <td>1</td>\n",
       "      <td>1</td>\n",
       "      <td>98</td>\n",
       "      <td>0</td>\n",
       "      <td>0</td>\n",
       "      <td>26-10-2013</td>\n",
       "    </tr>\n",
       "    <tr>\n",
       "      <th>2173</th>\n",
       "      <td>2013040743</td>\n",
       "      <td>40743</td>\n",
       "      <td>17</td>\n",
       "      <td>17</td>\n",
       "      <td>0</td>\n",
       "      <td>22</td>\n",
       "      <td>PINAL</td>\n",
       "      <td>NaN</td>\n",
       "      <td>12</td>\n",
       "      <td>1</td>\n",
       "      <td>...</td>\n",
       "      <td>0</td>\n",
       "      <td>5</td>\n",
       "      <td>13</td>\n",
       "      <td>1</td>\n",
       "      <td>1</td>\n",
       "      <td>5</td>\n",
       "      <td>98</td>\n",
       "      <td>1</td>\n",
       "      <td>0</td>\n",
       "      <td>26-10-2013</td>\n",
       "    </tr>\n",
       "    <tr>\n",
       "      <th>2174</th>\n",
       "      <td>2013040743</td>\n",
       "      <td>40743</td>\n",
       "      <td>17</td>\n",
       "      <td>17</td>\n",
       "      <td>0</td>\n",
       "      <td>22</td>\n",
       "      <td>PINAL</td>\n",
       "      <td>NaN</td>\n",
       "      <td>12</td>\n",
       "      <td>1</td>\n",
       "      <td>...</td>\n",
       "      <td>0</td>\n",
       "      <td>1</td>\n",
       "      <td>99</td>\n",
       "      <td>99</td>\n",
       "      <td>1</td>\n",
       "      <td>9</td>\n",
       "      <td>98</td>\n",
       "      <td>0</td>\n",
       "      <td>0</td>\n",
       "      <td>26-10-2013</td>\n",
       "    </tr>\n",
       "    <tr>\n",
       "      <th>2175</th>\n",
       "      <td>2013040743</td>\n",
       "      <td>40743</td>\n",
       "      <td>17</td>\n",
       "      <td>17</td>\n",
       "      <td>0</td>\n",
       "      <td>22</td>\n",
       "      <td>PINAL</td>\n",
       "      <td>NaN</td>\n",
       "      <td>12</td>\n",
       "      <td>1</td>\n",
       "      <td>...</td>\n",
       "      <td>0</td>\n",
       "      <td>1</td>\n",
       "      <td>99</td>\n",
       "      <td>99</td>\n",
       "      <td>9</td>\n",
       "      <td>9</td>\n",
       "      <td>98</td>\n",
       "      <td>0</td>\n",
       "      <td>0</td>\n",
       "      <td>26-10-2013</td>\n",
       "    </tr>\n",
       "    <tr>\n",
       "      <th>2176</th>\n",
       "      <td>2013040743</td>\n",
       "      <td>40743</td>\n",
       "      <td>17</td>\n",
       "      <td>17</td>\n",
       "      <td>0</td>\n",
       "      <td>22</td>\n",
       "      <td>PINAL</td>\n",
       "      <td>NaN</td>\n",
       "      <td>12</td>\n",
       "      <td>1</td>\n",
       "      <td>...</td>\n",
       "      <td>0</td>\n",
       "      <td>1</td>\n",
       "      <td>99</td>\n",
       "      <td>1</td>\n",
       "      <td>1</td>\n",
       "      <td>3</td>\n",
       "      <td>98</td>\n",
       "      <td>0</td>\n",
       "      <td>0</td>\n",
       "      <td>26-10-2013</td>\n",
       "    </tr>\n",
       "    <tr>\n",
       "      <th>2177</th>\n",
       "      <td>2013040743</td>\n",
       "      <td>40743</td>\n",
       "      <td>17</td>\n",
       "      <td>17</td>\n",
       "      <td>0</td>\n",
       "      <td>22</td>\n",
       "      <td>PINAL</td>\n",
       "      <td>NaN</td>\n",
       "      <td>12</td>\n",
       "      <td>1</td>\n",
       "      <td>...</td>\n",
       "      <td>0</td>\n",
       "      <td>1</td>\n",
       "      <td>99</td>\n",
       "      <td>99</td>\n",
       "      <td>9</td>\n",
       "      <td>9</td>\n",
       "      <td>98</td>\n",
       "      <td>0</td>\n",
       "      <td>0</td>\n",
       "      <td>26-10-2013</td>\n",
       "    </tr>\n",
       "    <tr>\n",
       "      <th>2178</th>\n",
       "      <td>2013040743</td>\n",
       "      <td>40743</td>\n",
       "      <td>17</td>\n",
       "      <td>17</td>\n",
       "      <td>0</td>\n",
       "      <td>22</td>\n",
       "      <td>PINAL</td>\n",
       "      <td>NaN</td>\n",
       "      <td>12</td>\n",
       "      <td>1</td>\n",
       "      <td>...</td>\n",
       "      <td>0</td>\n",
       "      <td>1</td>\n",
       "      <td>99</td>\n",
       "      <td>99</td>\n",
       "      <td>9</td>\n",
       "      <td>9</td>\n",
       "      <td>98</td>\n",
       "      <td>1</td>\n",
       "      <td>0</td>\n",
       "      <td>26-10-2013</td>\n",
       "    </tr>\n",
       "    <tr>\n",
       "      <th>2179</th>\n",
       "      <td>2013040743</td>\n",
       "      <td>40743</td>\n",
       "      <td>17</td>\n",
       "      <td>17</td>\n",
       "      <td>0</td>\n",
       "      <td>22</td>\n",
       "      <td>PINAL</td>\n",
       "      <td>NaN</td>\n",
       "      <td>12</td>\n",
       "      <td>1</td>\n",
       "      <td>...</td>\n",
       "      <td>0</td>\n",
       "      <td>1</td>\n",
       "      <td>99</td>\n",
       "      <td>99</td>\n",
       "      <td>9</td>\n",
       "      <td>9</td>\n",
       "      <td>98</td>\n",
       "      <td>0</td>\n",
       "      <td>0</td>\n",
       "      <td>26-10-2013</td>\n",
       "    </tr>\n",
       "    <tr>\n",
       "      <th>2180</th>\n",
       "      <td>2013040743</td>\n",
       "      <td>40743</td>\n",
       "      <td>17</td>\n",
       "      <td>17</td>\n",
       "      <td>0</td>\n",
       "      <td>22</td>\n",
       "      <td>PINAL</td>\n",
       "      <td>NaN</td>\n",
       "      <td>12</td>\n",
       "      <td>1</td>\n",
       "      <td>...</td>\n",
       "      <td>0</td>\n",
       "      <td>1</td>\n",
       "      <td>99</td>\n",
       "      <td>99</td>\n",
       "      <td>9</td>\n",
       "      <td>9</td>\n",
       "      <td>98</td>\n",
       "      <td>1</td>\n",
       "      <td>0</td>\n",
       "      <td>26-10-2013</td>\n",
       "    </tr>\n",
       "    <tr>\n",
       "      <th>2181</th>\n",
       "      <td>2013040743</td>\n",
       "      <td>40743</td>\n",
       "      <td>17</td>\n",
       "      <td>17</td>\n",
       "      <td>0</td>\n",
       "      <td>22</td>\n",
       "      <td>PINAL</td>\n",
       "      <td>NaN</td>\n",
       "      <td>12</td>\n",
       "      <td>1</td>\n",
       "      <td>...</td>\n",
       "      <td>0</td>\n",
       "      <td>2</td>\n",
       "      <td>99</td>\n",
       "      <td>99</td>\n",
       "      <td>9</td>\n",
       "      <td>9</td>\n",
       "      <td>98</td>\n",
       "      <td>0</td>\n",
       "      <td>0</td>\n",
       "      <td>26-10-2013</td>\n",
       "    </tr>\n",
       "  </tbody>\n",
       "</table>\n",
       "<p>17 rows × 123 columns</p>\n",
       "</div>"
      ],
      "text/plain": [
       "      accident_id  st_case  ve_total  ve_forms  peds  persons county_name  \\\n",
       "2165   2013040743    40743        17        17     0       22       PINAL   \n",
       "2166   2013040743    40743        17        17     0       22       PINAL   \n",
       "2167   2013040743    40743        17        17     0       22       PINAL   \n",
       "2168   2013040743    40743        17        17     0       22       PINAL   \n",
       "2169   2013040743    40743        17        17     0       22       PINAL   \n",
       "2170   2013040743    40743        17        17     0       22       PINAL   \n",
       "2171   2013040743    40743        17        17     0       22       PINAL   \n",
       "2172   2013040743    40743        17        17     0       22       PINAL   \n",
       "2173   2013040743    40743        17        17     0       22       PINAL   \n",
       "2174   2013040743    40743        17        17     0       22       PINAL   \n",
       "2175   2013040743    40743        17        17     0       22       PINAL   \n",
       "2176   2013040743    40743        17        17     0       22       PINAL   \n",
       "2177   2013040743    40743        17        17     0       22       PINAL   \n",
       "2178   2013040743    40743        17        17     0       22       PINAL   \n",
       "2179   2013040743    40743        17        17     0       22       PINAL   \n",
       "2180   2013040743    40743        17        17     0       22       PINAL   \n",
       "2181   2013040743    40743        17        17     0       22       PINAL   \n",
       "\n",
       "     city_name  hour_x  nhs  ... vtcont_f  p_crash1  p_crash2 p_crash3  \\\n",
       "2165       NaN      12    1  ...        0         2        61        1   \n",
       "2166       NaN      12    1  ...        0         1        50        7   \n",
       "2167       NaN      12    1  ...        0         5        53        1   \n",
       "2168       NaN      12    1  ...        0         5        60        1   \n",
       "2169       NaN      12    1  ...        0         1        13        1   \n",
       "2170       NaN      12    1  ...        0         5        13        1   \n",
       "2171       NaN      12    1  ...        0         1        13        1   \n",
       "2172       NaN      12    1  ...        0         1        50        1   \n",
       "2173       NaN      12    1  ...        0         5        13        1   \n",
       "2174       NaN      12    1  ...        0         1        99       99   \n",
       "2175       NaN      12    1  ...        0         1        99       99   \n",
       "2176       NaN      12    1  ...        0         1        99        1   \n",
       "2177       NaN      12    1  ...        0         1        99       99   \n",
       "2178       NaN      12    1  ...        0         1        99       99   \n",
       "2179       NaN      12    1  ...        0         1        99       99   \n",
       "2180       NaN      12    1  ...        0         1        99       99   \n",
       "2181       NaN      12    1  ...        0         2        99       99   \n",
       "\n",
       "     pcrash4 pcrash5  acc_type  deaths  dr_drink   date_time  \n",
       "2165       1       1        98       0         0  26-10-2013  \n",
       "2166       1       3        32       0         0  26-10-2013  \n",
       "2167       1       1        32       0         0  26-10-2013  \n",
       "2168       1       4        98       0         0  26-10-2013  \n",
       "2169       1       4        98       0         0  26-10-2013  \n",
       "2170       1       5        98       0         0  26-10-2013  \n",
       "2171       1       1        98       0         0  26-10-2013  \n",
       "2172       1       1        98       0         0  26-10-2013  \n",
       "2173       1       5        98       1         0  26-10-2013  \n",
       "2174       1       9        98       0         0  26-10-2013  \n",
       "2175       9       9        98       0         0  26-10-2013  \n",
       "2176       1       3        98       0         0  26-10-2013  \n",
       "2177       9       9        98       0         0  26-10-2013  \n",
       "2178       9       9        98       1         0  26-10-2013  \n",
       "2179       9       9        98       0         0  26-10-2013  \n",
       "2180       9       9        98       1         0  26-10-2013  \n",
       "2181       9       9        98       0         0  26-10-2013  \n",
       "\n",
       "[17 rows x 123 columns]"
      ]
     },
     "execution_count": 22,
     "metadata": {},
     "output_type": "execute_result"
    }
   ],
   "source": [
    "df[df[\"accident_id\"] == 2013040743]"
   ]
  },
  {
   "cell_type": "markdown",
   "metadata": {},
   "source": [
    "### Observation:\n",
    "* As we can see above 2013040743 accident id present 17 times in the dataset.\n",
    "."
   ]
  },
  {
   "cell_type": "markdown",
   "metadata": {},
   "source": [
    "### 4.2 Accident in a particular day\n",
    "\n",
    "* To check the number accidents happened on the particular dates we must take unique data to analyse it."
   ]
  },
  {
   "cell_type": "markdown",
   "metadata": {},
   "source": [
    "#### creating a temporary dataframe to get the unique accident id only"
   ]
  },
  {
   "cell_type": "code",
   "execution_count": 23,
   "metadata": {},
   "outputs": [],
   "source": [
    "## dropping all redundent columns with accident_id and keeping the first row\n",
    "temp_df = df.drop_duplicates(subset = [\"accident_id\"], keep=\"first\")\n",
    "#temp_df"
   ]
  },
  {
   "cell_type": "code",
   "execution_count": 24,
   "metadata": {},
   "outputs": [
    {
     "data": {
      "image/png": "[encoded data removed]",
      "text/plain": [
       "<Figure size 1080x216 with 1 Axes>"
      ]
     },
     "metadata": {
      "needs_background": "light"
     },
     "output_type": "display_data"
    }
   ],
   "source": [
    "bar_plot(temp_df[\"date_time\"], \"day_month_year\", \"count\", \"Accident happened on dates\", 50, (15,3), color = \"green\")"
   ]
  },
  {
   "cell_type": "markdown",
   "metadata": {},
   "source": [
    "### observation:\n",
    "* The maximum accident happend on a single date is 8 and in 2013 it happend two times in month of march and februray.\n",
    "* In 2014 maximum accident happend on one day is 7 ."
   ]
  },
  {
   "cell_type": "markdown",
   "metadata": {},
   "source": [
    "### 4.3 what is yearwise count of accidents?\n"
   ]
  },
  {
   "cell_type": "code",
   "execution_count": 25,
   "metadata": {},
   "outputs": [
    {
     "name": "stdout",
     "output_type": "stream",
     "text": [
      "{'2012': 738, '2013': 782, '2014': 708, '2015': 811, '2016': 865}\n"
     ]
    }
   ],
   "source": [
    "## getting years from date time column to check how many accidents happening year wise\n",
    "temp_df[\"year\"] = temp_df[\"date_time\"].apply(lambda x : x[-4:])\n",
    "## getting dictionary of thr year and number of accidients\n",
    "getting_dict = temp_df[\"year\"].value_counts().sort_index().to_dict()\n",
    "print(getting_dict)"
   ]
  },
  {
   "cell_type": "code",
   "execution_count": 26,
   "metadata": {},
   "outputs": [
    {
     "data": {
      "image/png": "[encoded data removed]",
      "text/plain": [
       "<Figure size 432x432 with 1 Axes>"
      ]
     },
     "metadata": {},
     "output_type": "display_data"
    }
   ],
   "source": [
    "## getting key and values from the dictionaries\n",
    "labels = getting_dict.keys(); values = getting_dict.values()\n",
    "plt.figure(figsize=(6,6))\n",
    "plt.pie(values, labels=labels, autopct='%1.1f%%', shadow=True, startangle=90)\n",
    "plt.title(\"Number of accidents per year\", fontsize=15)\n",
    "plt.show()"
   ]
  },
  {
   "cell_type": "markdown",
   "metadata": {},
   "source": [
    "### Observation:\n",
    "* As we see the last 5 years of trend, we can say that accident rate has increased from 2014 to 2016 constantly.\n",
    "* In 2016 the most number of accidents recorded."
   ]
  },
  {
   "cell_type": "markdown",
   "metadata": {},
   "source": [
    "### 4.4 During which month-year the accident rate is high?"
   ]
  },
  {
   "cell_type": "code",
   "execution_count": 27,
   "metadata": {},
   "outputs": [],
   "source": [
    "### bar plot function unsorted\n",
    "def bar_plot_unsorted(data, xlabel_, ylabel_, title_, num, size, color):\n",
    "    \"\"\"\n",
    "    This function produces bar plot using pandas plot attribute\n",
    "    \"\"\"\n",
    "    plot = data.value_counts().sort_index()[0:num].plot(kind=\"bar\", figsize=size, color=color)\n",
    "    plt.xlabel(xlabel_, fontsize=15)\n",
    "    plt.ylabel(ylabel_, fontsize=15)\n",
    "    plt.title(title_, fontsize=15)\n",
    "    plt.show()"
   ]
  },
  {
   "cell_type": "code",
   "execution_count": 28,
   "metadata": {},
   "outputs": [],
   "source": [
    "temp_df[\"my\"] = temp_df[\"date_time\"].apply(lambda x : x.split(\"-\")[2] + \"-\" + x.split(\"-\")[1])\n",
    "temp_df[\"my\"] = temp_df[\"my\"].apply((lambda x : dt.strptime(x, '%Y-%m')))\n",
    "temp_df[\"my\"] = temp_df[\"my\"].dt.strftime('%Y-%m')"
   ]
  },
  {
   "cell_type": "code",
   "execution_count": 29,
   "metadata": {},
   "outputs": [
    {
     "data": {
      "image/png": "[encoded data removed]",
      "text/plain": [
       "<Figure size 1080x216 with 1 Axes>"
      ]
     },
     "metadata": {
      "needs_background": "light"
     },
     "output_type": "display_data"
    }
   ],
   "source": [
    "bar_plot_unsorted(temp_df[\"my\"], \"month&year combination\", \"count\", \"Accident rate\", 48, (15,3), color = \"magenta\")"
   ]
  },
  {
   "cell_type": "markdown",
   "metadata": {},
   "source": [
    "### Observation:\n",
    "* The most of the accidents recored during the month of march 2015.\n",
    "* I didn't find any particular pattern here of the accidents. But the volume of accidents during the month of march is very high yearly."
   ]
  },
  {
   "cell_type": "markdown",
   "metadata": {},
   "source": [
    "### 4.5 During which hour accident rates are high?\n"
   ]
  },
  {
   "cell_type": "code",
   "execution_count": 30,
   "metadata": {},
   "outputs": [
    {
     "data": {
      "image/png": "[encoded data removed]",
      "text/plain": [
       "<Figure size 1080x288 with 1 Axes>"
      ]
     },
     "metadata": {
      "needs_background": "light"
     },
     "output_type": "display_data"
    }
   ],
   "source": [
    "bar_plot_unsorted(temp_df[\"hour_x\"], \"hours\", \"count\", \"accident count per hours\", 24, (15,4), \"black\")"
   ]
  },
  {
   "cell_type": "markdown",
   "metadata": {},
   "source": [
    "### Observation\n",
    "* As we can see the accident mostly happened during evening to night time, from 5PM to 8PM.\n",
    "* This may happen due to the rush in the roads during the night time."
   ]
  },
  {
   "cell_type": "markdown",
   "metadata": {},
   "source": [
    "### 4.6 Travel speed of vehicle\n",
    "\n",
    "* The data is given with a travel speed of the vehicle column as well. We must analyse it."
   ]
  },
  {
   "cell_type": "code",
   "execution_count": 31,
   "metadata": {},
   "outputs": [
    {
     "data": {
      "image/png": "[encoded data removed]",
      "text/plain": [
       "<Figure size 432x288 with 1 Axes>"
      ]
     },
     "metadata": {
      "needs_background": "light"
     },
     "output_type": "display_data"
    },
    {
     "data": {
      "image/png": "[encoded data removed]",
      "text/plain": [
       "<Figure size 432x288 with 1 Axes>"
      ]
     },
     "metadata": {
      "needs_background": "light"
     },
     "output_type": "display_data"
    }
   ],
   "source": [
    "## distribution plot\n",
    "plot = sns.distplot(df[\"trav_sp\"], color=\"red\", kde=True)\n",
    "plt.title(\"Distribution plot of travel speed of the vehicle\", fontsize=20)\n",
    "plt.show()\n",
    "\n",
    "## bot plot\n",
    "plot = plt.boxplot(df[\"trav_sp\"].values)\n",
    "plt.ylabel(\"range\", fontsize=15)\n",
    "plt.title(\"Travel Speed Analysis\", fontsize=20)\n",
    "plt.show()"
   ]
  },
  {
   "cell_type": "markdown",
   "metadata": {},
   "source": [
    "### Observation\n",
    "* As we can see above the travel speed starts from \"0\" unit but it had values more than 900 as well. \n",
    "* Though the unit is not present I am generalizing it with km/hr.\n",
    "* It seems weird, as boxplot shows there is no outlier. We must do percentile analysis here."
   ]
  },
  {
   "cell_type": "code",
   "execution_count": 32,
   "metadata": {},
   "outputs": [
    {
     "data": {
      "image/png": "[encoded data removed]",
      "text/plain": [
       "<Figure size 1080x216 with 3 Axes>"
      ]
     },
     "metadata": {
      "needs_background": "light"
     },
     "output_type": "display_data"
    }
   ],
   "source": [
    "### percetile analysis\n",
    "###sanity check\n",
    "\n",
    "ls1 = [(val, np.percentile(df[\"trav_sp\"].values, val)) for val in range(0,91,10)]\n",
    "ls2 = [(val, np.percentile(df[\"trav_sp\"].values, val)) for val in range(91,100)]\n",
    "ls3 = [(val, np.percentile(df[\"trav_sp\"].values, val)) for val in [99.1,99.2,99.3, 99.4, 99.5, 99.6, 99.7, 99.8, 99.9, 100]]\n",
    "## extending class\n",
    "ls1.extend(ls2); ls1.extend(ls3)\n",
    "## getting x and y\n",
    "percent = [val[0] for val in ls1]\n",
    "values = [val[1] for val in ls1]\n",
    "\n",
    "fig, ax = plt.subplots(ncols=3, figsize=(15,3))\n",
    "## getting for 0-90\n",
    "ax[0].plot(percent[0:10], values[0:10], 'r-o')\n",
    "ax[0].set_xticks(percent[0:10])\n",
    "ax[0].set_title(\"Percentile Analysis for 0 to 90\")\n",
    "## getting for 90-99\n",
    "ax[1].plot(percent[10:19], values[10:19], 'g-o')\n",
    "ax[1].set_xticks(percent[10:19])\n",
    "ax[1].set_title(\"Percentile Analysis for 91 to 99\")\n",
    "## getting for 99.1 to 99.9\n",
    "ax[2].plot(percent[19:], values[19:], 'b-o')\n",
    "ax[2].set_xticks(percent[19:])\n",
    "ax[2].set_title(\"Percentile Analysis for 99.1 to 99.9\")\n",
    "plt.show()"
   ]
  },
  {
   "cell_type": "code",
   "execution_count": 33,
   "metadata": {},
   "outputs": [
    {
     "name": "stdout",
     "output_type": "stream",
     "text": [
      "The 63rd percentile of the travel speed is 117.88 units.\n",
      "The 64rd percentile of the travel speed is 998.00 units.\n"
     ]
    }
   ],
   "source": [
    "print(\"The 63rd percentile of the travel speed is {:.2f} units.\".format(np.percentile(df[\"trav_sp\"].values, 63)))\n",
    "print(\"The 64rd percentile of the travel speed is {:.2f} units.\".format(np.percentile(df[\"trav_sp\"].values, 64)))"
   ]
  },
  {
   "cell_type": "markdown",
   "metadata": {},
   "source": [
    "### Observation:\n",
    "* From above analysis we conclude that 34 percentile of the values present in the travel speed section is junk and full of outliers which 998. This anomaly coz a vehicle can't go more than 1000km/hr which is impossible."
   ]
  },
  {
   "cell_type": "code",
   "execution_count": 34,
   "metadata": {},
   "outputs": [
    {
     "data": {
      "image/png": "[encoded data removed]",
      "text/plain": [
       "<Figure size 432x288 with 1 Axes>"
      ]
     },
     "metadata": {
      "needs_background": "light"
     },
     "output_type": "display_data"
    }
   ],
   "source": [
    "x = df[df[\"trav_sp\"] < 120][\"trav_sp\"]\n",
    "\n",
    "### after removal of outliers\n",
    "plot = plt.boxplot(x)\n",
    "plt.ylabel(\"range\", fontsize=15)\n",
    "plt.title(\"Travel Speed Analysis\", fontsize=20)\n",
    "plt.show()"
   ]
  },
  {
   "cell_type": "markdown",
   "metadata": {},
   "source": [
    "* The average vehicle speed was betwen 30 to 60 units when accident happened."
   ]
  },
  {
   "cell_type": "code",
   "execution_count": 35,
   "metadata": {},
   "outputs": [
    {
     "data": {
      "image/png": "[encoded data removed]",
      "text/plain": [
       "<Figure size 432x288 with 1 Axes>"
      ]
     },
     "metadata": {
      "needs_background": "light"
     },
     "output_type": "display_data"
    }
   ],
   "source": [
    "plot = sns.distplot(x, color=\"red\", kde=True)\n",
    "plt.title(\"Distribution plot of travel speed of the vehicle, after removing outliers\", fontsize=15)\n",
    "plt.show()\n"
   ]
  },
  {
   "cell_type": "markdown",
   "metadata": {},
   "source": [
    "#### using temp_df to analyse speed with death rate"
   ]
  },
  {
   "cell_type": "code",
   "execution_count": 36,
   "metadata": {},
   "outputs": [
    {
     "data": {
      "text/html": [
       "<div>\n",
       "<style scoped>\n",
       "    .dataframe tbody tr th:only-of-type {\n",
       "        vertical-align: middle;\n",
       "    }\n",
       "\n",
       "    .dataframe tbody tr th {\n",
       "        vertical-align: top;\n",
       "    }\n",
       "\n",
       "    .dataframe thead th {\n",
       "        text-align: right;\n",
       "    }\n",
       "</style>\n",
       "<table border=\"1\" class=\"dataframe\">\n",
       "  <thead>\n",
       "    <tr style=\"text-align: right;\">\n",
       "      <th></th>\n",
       "      <th>accident_id</th>\n",
       "      <th>st_case</th>\n",
       "      <th>ve_total</th>\n",
       "      <th>ve_forms</th>\n",
       "      <th>peds</th>\n",
       "      <th>persons</th>\n",
       "      <th>county_name</th>\n",
       "      <th>city_name</th>\n",
       "      <th>hour_x</th>\n",
       "      <th>nhs</th>\n",
       "      <th>...</th>\n",
       "      <th>p_crash1</th>\n",
       "      <th>p_crash2</th>\n",
       "      <th>p_crash3</th>\n",
       "      <th>pcrash4</th>\n",
       "      <th>pcrash5</th>\n",
       "      <th>acc_type</th>\n",
       "      <th>deaths</th>\n",
       "      <th>dr_drink</th>\n",
       "      <th>date_time</th>\n",
       "      <th>bins_of_speed</th>\n",
       "    </tr>\n",
       "  </thead>\n",
       "  <tbody>\n",
       "    <tr>\n",
       "      <th>0</th>\n",
       "      <td>2012040001</td>\n",
       "      <td>40001</td>\n",
       "      <td>1</td>\n",
       "      <td>1</td>\n",
       "      <td>0</td>\n",
       "      <td>1</td>\n",
       "      <td>PIMA</td>\n",
       "      <td>NaN</td>\n",
       "      <td>2</td>\n",
       "      <td>0</td>\n",
       "      <td>...</td>\n",
       "      <td>10</td>\n",
       "      <td>6</td>\n",
       "      <td>1</td>\n",
       "      <td>1</td>\n",
       "      <td>3</td>\n",
       "      <td>98</td>\n",
       "      <td>1</td>\n",
       "      <td>1</td>\n",
       "      <td>1-1-2012</td>\n",
       "      <td>(-0.001, 30.0]</td>\n",
       "    </tr>\n",
       "    <tr>\n",
       "      <th>2</th>\n",
       "      <td>2012040003</td>\n",
       "      <td>40003</td>\n",
       "      <td>1</td>\n",
       "      <td>1</td>\n",
       "      <td>1</td>\n",
       "      <td>0</td>\n",
       "      <td>MARICOPA</td>\n",
       "      <td>PHOENIX</td>\n",
       "      <td>18</td>\n",
       "      <td>0</td>\n",
       "      <td>...</td>\n",
       "      <td>0</td>\n",
       "      <td>19</td>\n",
       "      <td>0</td>\n",
       "      <td>0</td>\n",
       "      <td>0</td>\n",
       "      <td>98</td>\n",
       "      <td>0</td>\n",
       "      <td>0</td>\n",
       "      <td>1-1-2012</td>\n",
       "      <td>(-0.001, 30.0]</td>\n",
       "    </tr>\n",
       "    <tr>\n",
       "      <th>5</th>\n",
       "      <td>2012040005</td>\n",
       "      <td>40005</td>\n",
       "      <td>2</td>\n",
       "      <td>2</td>\n",
       "      <td>0</td>\n",
       "      <td>4</td>\n",
       "      <td>PIMA</td>\n",
       "      <td>TUCSON</td>\n",
       "      <td>0</td>\n",
       "      <td>0</td>\n",
       "      <td>...</td>\n",
       "      <td>14</td>\n",
       "      <td>9</td>\n",
       "      <td>1</td>\n",
       "      <td>9</td>\n",
       "      <td>4</td>\n",
       "      <td>2</td>\n",
       "      <td>1</td>\n",
       "      <td>0</td>\n",
       "      <td>4-1-2012</td>\n",
       "      <td>(30.0, 60.0]</td>\n",
       "    </tr>\n",
       "    <tr>\n",
       "      <th>6</th>\n",
       "      <td>2012040005</td>\n",
       "      <td>40005</td>\n",
       "      <td>2</td>\n",
       "      <td>2</td>\n",
       "      <td>0</td>\n",
       "      <td>4</td>\n",
       "      <td>PIMA</td>\n",
       "      <td>TUCSON</td>\n",
       "      <td>0</td>\n",
       "      <td>0</td>\n",
       "      <td>...</td>\n",
       "      <td>14</td>\n",
       "      <td>62</td>\n",
       "      <td>6</td>\n",
       "      <td>1</td>\n",
       "      <td>3</td>\n",
       "      <td>98</td>\n",
       "      <td>0</td>\n",
       "      <td>0</td>\n",
       "      <td>4-1-2012</td>\n",
       "      <td>(30.0, 60.0]</td>\n",
       "    </tr>\n",
       "    <tr>\n",
       "      <th>7</th>\n",
       "      <td>2012040006</td>\n",
       "      <td>40006</td>\n",
       "      <td>1</td>\n",
       "      <td>1</td>\n",
       "      <td>1</td>\n",
       "      <td>1</td>\n",
       "      <td>MARICOPA</td>\n",
       "      <td>MESA</td>\n",
       "      <td>9</td>\n",
       "      <td>0</td>\n",
       "      <td>...</td>\n",
       "      <td>1</td>\n",
       "      <td>80</td>\n",
       "      <td>4</td>\n",
       "      <td>2</td>\n",
       "      <td>1</td>\n",
       "      <td>13</td>\n",
       "      <td>0</td>\n",
       "      <td>0</td>\n",
       "      <td>4-1-2012</td>\n",
       "      <td>(30.0, 60.0]</td>\n",
       "    </tr>\n",
       "    <tr>\n",
       "      <th>...</th>\n",
       "      <td>...</td>\n",
       "      <td>...</td>\n",
       "      <td>...</td>\n",
       "      <td>...</td>\n",
       "      <td>...</td>\n",
       "      <td>...</td>\n",
       "      <td>...</td>\n",
       "      <td>...</td>\n",
       "      <td>...</td>\n",
       "      <td>...</td>\n",
       "      <td>...</td>\n",
       "      <td>...</td>\n",
       "      <td>...</td>\n",
       "      <td>...</td>\n",
       "      <td>...</td>\n",
       "      <td>...</td>\n",
       "      <td>...</td>\n",
       "      <td>...</td>\n",
       "      <td>...</td>\n",
       "      <td>...</td>\n",
       "      <td>...</td>\n",
       "    </tr>\n",
       "    <tr>\n",
       "      <th>5883</th>\n",
       "      <td>2016040877</td>\n",
       "      <td>40877</td>\n",
       "      <td>2</td>\n",
       "      <td>2</td>\n",
       "      <td>0</td>\n",
       "      <td>3</td>\n",
       "      <td>MARICOPA</td>\n",
       "      <td>GLENDALE</td>\n",
       "      <td>11</td>\n",
       "      <td>0</td>\n",
       "      <td>...</td>\n",
       "      <td>10</td>\n",
       "      <td>16</td>\n",
       "      <td>1</td>\n",
       "      <td>1</td>\n",
       "      <td>1</td>\n",
       "      <td>78</td>\n",
       "      <td>0</td>\n",
       "      <td>0</td>\n",
       "      <td>15-11-2016</td>\n",
       "      <td>(-0.001, 30.0]</td>\n",
       "    </tr>\n",
       "    <tr>\n",
       "      <th>5884</th>\n",
       "      <td>2016040877</td>\n",
       "      <td>40877</td>\n",
       "      <td>2</td>\n",
       "      <td>2</td>\n",
       "      <td>0</td>\n",
       "      <td>3</td>\n",
       "      <td>MARICOPA</td>\n",
       "      <td>GLENDALE</td>\n",
       "      <td>11</td>\n",
       "      <td>0</td>\n",
       "      <td>...</td>\n",
       "      <td>1</td>\n",
       "      <td>65</td>\n",
       "      <td>6</td>\n",
       "      <td>1</td>\n",
       "      <td>1</td>\n",
       "      <td>79</td>\n",
       "      <td>1</td>\n",
       "      <td>0</td>\n",
       "      <td>15-11-2016</td>\n",
       "      <td>(30.0, 60.0]</td>\n",
       "    </tr>\n",
       "    <tr>\n",
       "      <th>5885</th>\n",
       "      <td>2016040878</td>\n",
       "      <td>40878</td>\n",
       "      <td>2</td>\n",
       "      <td>2</td>\n",
       "      <td>0</td>\n",
       "      <td>5</td>\n",
       "      <td>MARICOPA</td>\n",
       "      <td>PHOENIX</td>\n",
       "      <td>17</td>\n",
       "      <td>1</td>\n",
       "      <td>...</td>\n",
       "      <td>1</td>\n",
       "      <td>50</td>\n",
       "      <td>1</td>\n",
       "      <td>1</td>\n",
       "      <td>1</td>\n",
       "      <td>20</td>\n",
       "      <td>1</td>\n",
       "      <td>0</td>\n",
       "      <td>12-9-2016</td>\n",
       "      <td>(-0.001, 30.0]</td>\n",
       "    </tr>\n",
       "    <tr>\n",
       "      <th>5886</th>\n",
       "      <td>2016040878</td>\n",
       "      <td>40878</td>\n",
       "      <td>2</td>\n",
       "      <td>2</td>\n",
       "      <td>0</td>\n",
       "      <td>5</td>\n",
       "      <td>MARICOPA</td>\n",
       "      <td>PHOENIX</td>\n",
       "      <td>17</td>\n",
       "      <td>1</td>\n",
       "      <td>...</td>\n",
       "      <td>5</td>\n",
       "      <td>53</td>\n",
       "      <td>1</td>\n",
       "      <td>1</td>\n",
       "      <td>1</td>\n",
       "      <td>21</td>\n",
       "      <td>0</td>\n",
       "      <td>0</td>\n",
       "      <td>12-9-2016</td>\n",
       "      <td>(-0.001, 30.0]</td>\n",
       "    </tr>\n",
       "    <tr>\n",
       "      <th>5887</th>\n",
       "      <td>2016040879</td>\n",
       "      <td>40879</td>\n",
       "      <td>1</td>\n",
       "      <td>1</td>\n",
       "      <td>1</td>\n",
       "      <td>2</td>\n",
       "      <td>MARICOPA</td>\n",
       "      <td>PHOENIX</td>\n",
       "      <td>19</td>\n",
       "      <td>1</td>\n",
       "      <td>...</td>\n",
       "      <td>1</td>\n",
       "      <td>80</td>\n",
       "      <td>99</td>\n",
       "      <td>1</td>\n",
       "      <td>1</td>\n",
       "      <td>13</td>\n",
       "      <td>0</td>\n",
       "      <td>0</td>\n",
       "      <td>10-12-2016</td>\n",
       "      <td>(-0.001, 30.0]</td>\n",
       "    </tr>\n",
       "  </tbody>\n",
       "</table>\n",
       "<p>3711 rows × 124 columns</p>\n",
       "</div>"
      ],
      "text/plain": [
       "      accident_id  st_case  ve_total  ve_forms  peds  persons county_name  \\\n",
       "0      2012040001    40001         1         1     0        1        PIMA   \n",
       "2      2012040003    40003         1         1     1        0    MARICOPA   \n",
       "5      2012040005    40005         2         2     0        4        PIMA   \n",
       "6      2012040005    40005         2         2     0        4        PIMA   \n",
       "7      2012040006    40006         1         1     1        1    MARICOPA   \n",
       "...           ...      ...       ...       ...   ...      ...         ...   \n",
       "5883   2016040877    40877         2         2     0        3    MARICOPA   \n",
       "5884   2016040877    40877         2         2     0        3    MARICOPA   \n",
       "5885   2016040878    40878         2         2     0        5    MARICOPA   \n",
       "5886   2016040878    40878         2         2     0        5    MARICOPA   \n",
       "5887   2016040879    40879         1         1     1        2    MARICOPA   \n",
       "\n",
       "     city_name  hour_x  nhs  ... p_crash1  p_crash2  p_crash3 pcrash4 pcrash5  \\\n",
       "0          NaN       2    0  ...       10         6         1       1       3   \n",
       "2      PHOENIX      18    0  ...        0        19         0       0       0   \n",
       "5       TUCSON       0    0  ...       14         9         1       9       4   \n",
       "6       TUCSON       0    0  ...       14        62         6       1       3   \n",
       "7         MESA       9    0  ...        1        80         4       2       1   \n",
       "...        ...     ...  ...  ...      ...       ...       ...     ...     ...   \n",
       "5883  GLENDALE      11    0  ...       10        16         1       1       1   \n",
       "5884  GLENDALE      11    0  ...        1        65         6       1       1   \n",
       "5885   PHOENIX      17    1  ...        1        50         1       1       1   \n",
       "5886   PHOENIX      17    1  ...        5        53         1       1       1   \n",
       "5887   PHOENIX      19    1  ...        1        80        99       1       1   \n",
       "\n",
       "     acc_type  deaths  dr_drink   date_time   bins_of_speed  \n",
       "0          98       1         1    1-1-2012  (-0.001, 30.0]  \n",
       "2          98       0         0    1-1-2012  (-0.001, 30.0]  \n",
       "5           2       1         0    4-1-2012    (30.0, 60.0]  \n",
       "6          98       0         0    4-1-2012    (30.0, 60.0]  \n",
       "7          13       0         0    4-1-2012    (30.0, 60.0]  \n",
       "...       ...     ...       ...         ...             ...  \n",
       "5883       78       0         0  15-11-2016  (-0.001, 30.0]  \n",
       "5884       79       1         0  15-11-2016    (30.0, 60.0]  \n",
       "5885       20       1         0   12-9-2016  (-0.001, 30.0]  \n",
       "5886       21       0         0   12-9-2016  (-0.001, 30.0]  \n",
       "5887       13       0         0  10-12-2016  (-0.001, 30.0]  \n",
       "\n",
       "[3711 rows x 124 columns]"
      ]
     },
     "execution_count": 36,
     "metadata": {},
     "output_type": "execute_result"
    }
   ],
   "source": [
    "## creating dataframe for speed below 120 which is acceptable\n",
    "speed_df = df[df[\"trav_sp\"] < 120]\n",
    "## creating bins using panndas cut\n",
    "speed_df[\"bins_of_speed\"] = pd.cut(x, bins=[0, 30, 60, 90, 120], include_lowest=True)\n",
    "speed_df"
   ]
  },
  {
   "cell_type": "code",
   "execution_count": 37,
   "metadata": {},
   "outputs": [
    {
     "data": {
      "text/plain": [
       "0       Yes\n",
       "2        No\n",
       "5       Yes\n",
       "6        No\n",
       "7        No\n",
       "       ... \n",
       "5883     No\n",
       "5884    Yes\n",
       "5885    Yes\n",
       "5886     No\n",
       "5887     No\n",
       "Name: is_dead?, Length: 3711, dtype: object"
      ]
     },
     "execution_count": 37,
     "metadata": {},
     "output_type": "execute_result"
    }
   ],
   "source": [
    "### creating a new column of death or no death as yes or no\n",
    "speed_df[\"is_dead?\"] = [\"No\" if i < 1 else \"Yes\" for i in speed_df[\"deaths\"].values]\n",
    "speed_df[\"is_dead?\"]"
   ]
  },
  {
   "cell_type": "code",
   "execution_count": 38,
   "metadata": {},
   "outputs": [
    {
     "data": {
      "image/png": "[encoded data removed]",
      "text/plain": [
       "<Figure size 1080x360 with 1 Axes>"
      ]
     },
     "metadata": {
      "needs_background": "light"
     },
     "output_type": "display_data"
    }
   ],
   "source": [
    "fig = plt.figure(figsize=(15,5))\n",
    "plot = sns.countplot(x=\"bins_of_speed\", hue=\"is_dead?\", data=speed_df)\n",
    "plt.title(\"mortality rate with the speed of vehicle analysis\", fontsize=20)\n",
    "plt.show()"
   ]
  },
  {
   "cell_type": "markdown",
   "metadata": {},
   "source": [
    "### Observation:\n",
    "* As we can see above vehicle in speed 0 to 60, the probability of death is less.\n",
    "* But if the speed is more than 60 it is severe and death rate is high.\n",
    "* Comparatively chances of to be alive are more when speed is less."
   ]
  },
  {
   "cell_type": "markdown",
   "metadata": {},
   "source": [
    "### 4.7 Fatality"
   ]
  },
  {
   "cell_type": "code",
   "execution_count": 39,
   "metadata": {},
   "outputs": [
    {
     "name": "stdout",
     "output_type": "stream",
     "text": [
      "{1: 3604, 2: 236, 3: 40, 4: 16, 5: 7, 7: 1}\n"
     ]
    },
    {
     "data": {
      "image/png": "[encoded data removed]",
      "text/plain": [
       "<Figure size 576x576 with 1 Axes>"
      ]
     },
     "metadata": {},
     "output_type": "display_data"
    }
   ],
   "source": [
    "getting_dict = temp_df[\"fatals\"].value_counts().sort_index().to_dict()\n",
    "print(getting_dict)\n",
    "\n",
    "## getting key and values from the dictionaries\n",
    "labels = getting_dict.keys(); values = getting_dict.values()\n",
    "plt.figure(figsize=(8,8))\n",
    "plt.pie(values, autopct='%1.1f%%', shadow=True, startangle=90)\n",
    "plt.title(\"Fatality range\", fontsize=15)\n",
    "plt.legend(labels, loc='upper center', bbox_to_anchor=(1.45, 0.8))\n",
    "plt.show()"
   ]
  },
  {
   "cell_type": "markdown",
   "metadata": {},
   "source": [
    "### Conclusion:\n",
    "\n",
    "* As we can see that 92.3% accidents were not severe,means fatality  is only 1\n",
    "* In one accident it is 7 which shows that only one  accident was quite severe."
   ]
  },
  {
   "cell_type": "markdown",
   "metadata": {},
   "source": [
    "### what was the weather condition during accidents?"
   ]
  },
  {
   "cell_type": "code",
   "execution_count": 40,
   "metadata": {},
   "outputs": [
    {
     "data": {
      "image/png": "[encoded data removed]",
      "text/plain": [
       "<Figure size 1080x360 with 1 Axes>"
      ]
     },
     "metadata": {
      "needs_background": "light"
     },
     "output_type": "display_data"
    }
   ],
   "source": [
    "### getting plot for weather list\n",
    "plot = df[\"weather_lit\"].value_counts().plot(kind=\"bar\", xlabel =\"weather condition\", ylabel=\"total count\", figsize=(15,5), color=\"skyblue\")\n",
    "plt.title(\"What was the weather condition during accidents?\", fontsize=15,)\n",
    "plt.show()"
   ]
  },
  {
   "cell_type": "markdown",
   "metadata": {},
   "source": [
    "### Observation:\n",
    "\n",
    "* Most of the accidents happend when weather was clear.\n",
    "* It is observed that worse weather conditions did not contribute in accidents."
   ]
  },
  {
   "cell_type": "markdown",
   "metadata": {},
   "source": [
    "### In which city and corresponding country has the higher accident rate?"
   ]
  },
  {
   "cell_type": "code",
   "execution_count": 41,
   "metadata": {
    "scrolled": false
   },
   "outputs": [
    {
     "data": {
      "image/png": "[encoded data removed]",
      "text/plain": [
       "<Figure size 1080x360 with 1 Axes>"
      ]
     },
     "metadata": {
      "needs_background": "light"
     },
     "output_type": "display_data"
    }
   ],
   "source": [
    "df[[\"city_name\", \"county_name\"]].value_counts()[0:20].plot(kind=\"bar\", xlabel = \"City with corressponding county\", figsize=(15,5))\n",
    "plt.ylabel(\"count\")\n",
    "plt.title(\"Number of accident happen in perticular county\", fontsize=20)\n",
    "plt.show()"
   ]
  },
  {
   "cell_type": "markdown",
   "metadata": {},
   "source": [
    "### Observation:\n",
    "* Above analysis conclude that the most of the accidents happend in PHOENIX city's MARICOPA county,which were around 1400."
   ]
  },
  {
   "cell_type": "markdown",
   "metadata": {},
   "source": [
    "### How drinking and driving are related to death rate?¶"
   ]
  },
  {
   "cell_type": "code",
   "execution_count": 42,
   "metadata": {},
   "outputs": [
    {
     "data": {
      "image/png": "[encoded data removed]",
      "text/plain": [
       "<Figure size 720x360 with 1 Axes>"
      ]
     },
     "metadata": {
      "needs_background": "light"
     },
     "output_type": "display_data"
    }
   ],
   "source": [
    "df[\"is_dead?\"] = [\"No\" if i < 1 else \"Yes\" for i in df[\"deaths\"].values]\n",
    "fig = plt.figure(figsize=(10,5))\n",
    "plot = sns.countplot(x=\"dr_drink\", hue=\"is_dead?\", data=df, palette=\"BuGn\")\n",
    "plt.title(\"mortality rate with the condition of drinking and driving\", fontsize=20)\n",
    "plt.show()"
   ]
  },
  {
   "cell_type": "markdown",
   "metadata": {},
   "source": [
    "### Morality rate analysis when driver is drunk"
   ]
  },
  {
   "cell_type": "code",
   "execution_count": 43,
   "metadata": {},
   "outputs": [
    {
     "data": {
      "image/png": "[encoded data removed]",
      "text/plain": [
       "<Figure size 720x360 with 1 Axes>"
      ]
     },
     "metadata": {
      "needs_background": "light"
     },
     "output_type": "display_data"
    }
   ],
   "source": [
    "fig = plt.figure(figsize=(10,5))\n",
    "plot = sns.countplot(x=\"bins_of_speed\", hue=\"dr_drink\", data=speed_df, palette=\"prism\")\n",
    "plt.title(\"mortality rate with the speed of vehicle analysis\", fontsize=20)\n",
    "plt.show()"
   ]
  },
  {
   "cell_type": "markdown",
   "metadata": {},
   "source": [
    "## 5. Correlation"
   ]
  },
  {
   "cell_type": "code",
   "execution_count": 44,
   "metadata": {},
   "outputs": [
    {
     "data": {
      "image/png": "[encoded data removed]",
      "text/plain": [
       "<Figure size 1080x720 with 2 Axes>"
      ]
     },
     "metadata": {
      "needs_background": "light"
     },
     "output_type": "display_data"
    }
   ],
   "source": [
    "## selecting some particlular columns for correaltion which makes sense\n",
    "column_list = [\"accident_id\", \"nhs\", \"hour_x\", \"wrk_zone\", \"fatals\", \"deaths\", \"mak_mod\", \"mod_year\", \"trav_sp\", \"underide\",\"dr_drink\"]\n",
    "fig = plt.figure(figsize=(15,10))\n",
    "sns.heatmap(df[column_list].corr(), annot=True, cmap=\"ocean\",  fmt='.2f')\n",
    "plt.show()"
   ]
  },
  {
   "cell_type": "markdown",
   "metadata": {},
   "source": [
    "### Observation:\n",
    "* There is some relation between fatal accidents and deaths,so if accident is fatal then deaths would be high(38% chances).\n",
    "* From selected columns we plotted the correaltion and we didn't find any strong correaltion with any thing.\n",
    "* There is some correlation between make_mod(which is model of the vehicle) and mod_year(vechicle build on which year), but not enough to form a strong relationship."
   ]
  },
  {
   "cell_type": "markdown",
   "metadata": {},
   "source": [
    "## NULL HYPOTHESIS\n",
    "## 6. Hypothesis Testing"
   ]
  },
  {
   "cell_type": "markdown",
   "metadata": {},
   "source": [
    "### Q1: There is no significant difference between deaths and people escaped in an accident  with respect to speed. It means severity of accident independent of speed."
   ]
  },
  {
   "cell_type": "markdown",
   "metadata": {},
   "source": [
    "* the alpha = 0.05"
   ]
  },
  {
   "cell_type": "code",
   "execution_count": 45,
   "metadata": {},
   "outputs": [
    {
     "data": {
      "text/plain": [
       "Ttest_indResult(statistic=15.285057349553153, pvalue=4.1109245287280895e-51)"
      ]
     },
     "execution_count": 45,
     "metadata": {},
     "output_type": "execute_result"
    }
   ],
   "source": [
    "from scipy.stats import ttest_ind, norm\n",
    "\n",
    "## to avoid the outliers issue in speed we are taking the speed_df as created above.\n",
    "death_yes = speed_df[speed_df['is_dead?'] == \"Yes\"]\n",
    "death_no = speed_df[speed_df['is_dead?'] == \"No\"]\n",
    "\n",
    "yes_speed = death_yes[\"trav_sp\"].values\n",
    "no_speed = death_no[\"trav_sp\"].values\n",
    "\n",
    "ttest_ind(yes_speed, no_speed, equal_var=False)"
   ]
  },
  {
   "cell_type": "markdown",
   "metadata": {},
   "source": [
    "* As p-value is very very less than alpha, that means we reject the null hypothesis using t-test.\n",
    "* That mean there is a significant difference between death and alive rate according to the speed.\n",
    "* This means death rate or severity of accident depends upon speed of the vehicle ."
   ]
  },
  {
   "cell_type": "markdown",
   "metadata": {},
   "source": [
    "## Null hypothesis-2\n",
    "### Q2: There is no significant difference in speed wether the driver is drunk or not."
   ]
  },
  {
   "cell_type": "code",
   "execution_count": 46,
   "metadata": {},
   "outputs": [
    {
     "data": {
      "text/plain": [
       "Ttest_indResult(statistic=14.066065986436195, pvalue=1.2001958378657282e-40)"
      ]
     },
     "execution_count": 46,
     "metadata": {},
     "output_type": "execute_result"
    }
   ],
   "source": [
    "from scipy.stats import ttest_ind, norm\n",
    "# TTEST\n",
    "## to avoid the outliers issue in speed we are taking the speed_df as created above.\n",
    "drink_n_drive_yes = speed_df[speed_df['dr_drink'] == 1]\n",
    "drink_n_drive_no = speed_df[speed_df['dr_drink'] == 0]\n",
    "\n",
    "yes_speed = drink_n_drive_yes[\"trav_sp\"].values\n",
    "no_speed = drink_n_drive_no[\"trav_sp\"].values\n",
    "\n",
    "ttest_ind(yes_speed, no_speed, equal_var=False)"
   ]
  },
  {
   "cell_type": "markdown",
   "metadata": {},
   "source": [
    "### Observation:\n",
    "* As we can see p_value is less than alpha value ,so we  reject null hypothesis and it perdicts that when sriver is drunk ,he drives car at high speed.\n",
    "* It means drunk driver do rash driving."
   ]
  },
  {
   "cell_type": "markdown",
   "metadata": {},
   "source": [
    "## Summary:\n",
    "<b> After doing extensive analysis I came down to following conclusion</b>:\n",
    "\n",
    "* we consider some factors such as weather,speed to check their impact on mortality and frequency of accidents and analysis concluded that most of accidents happened in clear weather ,but speead has a significant effect on mortality of accident .It means death rate is increases with surge in speed and more severe is accident.\n",
    "\n",
    "* T-test done for hypothesis testing also rejects the null hypothesis as p value considerably less than alpha value and reveals that fatality depends upon speed.\n",
    "\n",
    "* data was very vast as encoded information was present ,so i smplify the data by keeping relevent information which provided me substanial visualisation and made a compact dataset.\n",
    "* outliers are detected and removed to clean the data. main outlier was about speed ,which was showing car speed around 1000 which is impossible.\n",
    "* It is concluded that accidents are increasing incessantly.\n",
    "* Around 93% accidents are not much harsh.mortality is negligble ."
   ]
  },
  {
   "cell_type": "markdown",
   "metadata": {},
   "source": [
    "## what I learned so far?\n",
    "* I performed statistical analysis and used advance visualisation with Seaborn and Matplotlib, which are crucial skills for a an aspiring Data scientist .\n",
    "* I learned about timeseries analysis and got idea about Extensive EDA and made some interesting insights.\n",
    "* Got to know,how important is data visualisation for a buisness. \n",
    "* how to deal with  complex pattern and find out meaningful insight from them."
   ]
  },
  {
   "cell_type": "markdown",
   "metadata": {},
   "source": [
    "### objective:\n",
    "* This analysis can be useful in reducing the number of accidents. As we all know, the majority of accidents occur between the hours of 5 and 10 p.m., which means more traffic on the roads. As a result, the NHS can take steps to regulate traffic to avoid accidents.\n",
    "* Since speed is directly linked to the seriousness of an accident, the NHS could create a new speed limit regulation."
   ]
  },
  {
   "cell_type": "markdown",
   "metadata": {},
   "source": [
    "## Future work:\n",
    "* There is another data available in the dataset that is Person.tsv and we can do interesting analysis:\n",
    "* We can found out how many persons involved in an accident and accident rate as per gender.\n",
    "* which age group involved in maximum accidents.\n",
    "* Reasons of accident like use of drug and seat postion and more .\n",
    "* we can do TTEST to check whether gender has any relation with rate of accident.\n"
   ]
  }
 ],
 "metadata": {
  "kernelspec": {
   "display_name": "Python 3",
   "language": "python",
   "name": "python3"
  },
  "language_info": {
   "codemirror_mode": {
    "name": "ipython",
    "version": 3
   },
   "file_extension": ".py",
   "mimetype": "text/x-python",
   "name": "python",
   "nbconvert_exporter": "python",
   "pygments_lexer": "ipython3",
   "version": "3.8.5"
  }
 },
 "nbformat": 4,
 "nbformat_minor": 4
}
